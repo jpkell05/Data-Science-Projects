{
 "cells": [
  {
   "cell_type": "markdown",
   "metadata": {},
   "source": [
    "# Introduction\n",
    "In this notebook I will be creating a neural network model that predicts the presence or absence of cardiovascular disease dependent on various factors. The goal is to practice making an effecitve neural network model. The data I will use is from DrivenData.com and is used for an introductory data science competition on there website. The data can also be found on the UCI machine learning repository. I will use the data from DrivenData.com so that I can evaluate my model's performance using a test set I don't have access to. Before creating the models I will perform some explanatory data analysis and discuss the problem to be solved in more detail. \n",
    "\n",
    "\n",
    "### Provided data documentation\n",
    "\n",
    "This database contains 13 attributes (which have been extracted from\n",
    "a larger set of 75)       \n",
    "  \n",
    "#### Attribute Information\n",
    "1. age       \n",
    "2. sex       \n",
    "3. chest pain type  (4 values)       \n",
    "4. resting blood pressure  \n",
    "5. serum cholestoral in mg/dl      \n",
    "6. fasting blood sugar > 120 mg/dl       \n",
    "7. resting electrocardiographic results  (values 0,1,2) \n",
    "8. maximum heart rate achieved  \n",
    "9. exercise induced angina    \n",
    "10. oldpeak = ST depression induced by exercise relative to rest   \n",
    "11. the slope of the peak exercise ST segment     \n",
    "12. number of major vessels (0-3) colored by flourosopy        \n",
    "13.  thal: 3 = normal; 6 = fixed defect; 7 = reversable defect \n",
    "      \n",
    "#### Attributes Types\n",
    "- Real: 1,4,5,8,10,12 </br>\n",
    "- Ordered:11,\n",
    "- Binary: 2,6,9\n",
    "- Nominal:7,3,13\n",
    "\n",
    "#### Variable to be predicted\n",
    "Absence (1) or presence (2) of heart disease\n",
    "\n",
    "#### Costs\n",
    "- True Positive Cost = 0\n",
    "- True Negative Cost = 0\n",
    "- False Positive Cost = -1\n",
    "- False Negative Cost = -5\n",
    "\n",
    "| Cost      | Absence           | Presence  |\n",
    "| ------------- |:-------------:| -----:|\n",
    "| Absence     | 0 | -1 |\n",
    "| Presence      | -5      |  0|\n",
    "\n",
    " \n",
    "There are 270 observations with no missing values.\n",
    "\n",
    "One thing to note is that these observations are presumably people who go to a healthcare facility with some cardiovascular issue (each observation for example includes some type of chest pain). So we are trying to distinguish the presence of heart disease from cases in which some other health issue is present."
   ]
  },
  {
   "cell_type": "code",
   "execution_count": 1,
   "metadata": {},
   "outputs": [
    {
     "name": "stdout",
     "output_type": "stream",
     "text": [
      "0    100\n",
      "1     80\n",
      "Name: heart_disease_present, dtype: int64\n"
     ]
    }
   ],
   "source": [
    "#Import Packages\n",
    "import matplotlib.pyplot as plt\n",
    "import seaborn as sns\n",
    "import pandas as pd\n",
    "import numpy as np\n",
    "%matplotlib inline\n",
    "\n",
    "#Import Data\n",
    "df_values = pd.read_csv('train_values.csv', index_col=0)\n",
    "df_labels = pd.read_csv('train_labels.csv', index_col=0)\n",
    "df_test_values = pd.read_csv('test_values.csv', index_col=0)\n",
    "\n",
    "#Lists of Categorical and Numerical features\n",
    "cat_var = ['sex', 'chest_pain_type', 'thal', 'slope_of_peak_exercise_st_segment', 'num_major_vessels', 'resting_ekg_results', 'exercise_induced_angina']\n",
    "cont_var = ['resting_blood_pressure','fasting_blood_sugar_gt_120_mg_per_dl','serum_cholesterol_mg_per_dl','oldpeak_eq_st_depression','age','max_heart_rate_achieved']\n",
    "\n",
    "#Create a dataframe with both features and target variable\n",
    "df = pd.concat([df_values, df_labels], axis=1)\n",
    "\n",
    "\n",
    "# Check distribution of target variable in data\n",
    "print(df['heart_disease_present'].value_counts())"
   ]
  },
  {
   "cell_type": "code",
   "execution_count": 2,
   "metadata": {},
   "outputs": [
    {
     "data": {
      "text/html": [
       "<div>\n",
       "<style scoped>\n",
       "    .dataframe tbody tr th:only-of-type {\n",
       "        vertical-align: middle;\n",
       "    }\n",
       "\n",
       "    .dataframe tbody tr th {\n",
       "        vertical-align: top;\n",
       "    }\n",
       "\n",
       "    .dataframe thead th {\n",
       "        text-align: right;\n",
       "    }\n",
       "</style>\n",
       "<table border=\"1\" class=\"dataframe\">\n",
       "  <thead>\n",
       "    <tr style=\"text-align: right;\">\n",
       "      <th></th>\n",
       "      <th>slope_of_peak_exercise_st_segment</th>\n",
       "      <th>thal</th>\n",
       "      <th>resting_blood_pressure</th>\n",
       "      <th>chest_pain_type</th>\n",
       "      <th>num_major_vessels</th>\n",
       "      <th>fasting_blood_sugar_gt_120_mg_per_dl</th>\n",
       "      <th>resting_ekg_results</th>\n",
       "      <th>serum_cholesterol_mg_per_dl</th>\n",
       "      <th>oldpeak_eq_st_depression</th>\n",
       "      <th>sex</th>\n",
       "      <th>age</th>\n",
       "      <th>max_heart_rate_achieved</th>\n",
       "      <th>exercise_induced_angina</th>\n",
       "      <th>heart_disease_present</th>\n",
       "    </tr>\n",
       "    <tr>\n",
       "      <th>patient_id</th>\n",
       "      <th></th>\n",
       "      <th></th>\n",
       "      <th></th>\n",
       "      <th></th>\n",
       "      <th></th>\n",
       "      <th></th>\n",
       "      <th></th>\n",
       "      <th></th>\n",
       "      <th></th>\n",
       "      <th></th>\n",
       "      <th></th>\n",
       "      <th></th>\n",
       "      <th></th>\n",
       "      <th></th>\n",
       "    </tr>\n",
       "  </thead>\n",
       "  <tbody>\n",
       "    <tr>\n",
       "      <th>0z64un</th>\n",
       "      <td>1</td>\n",
       "      <td>normal</td>\n",
       "      <td>128</td>\n",
       "      <td>2</td>\n",
       "      <td>0</td>\n",
       "      <td>0</td>\n",
       "      <td>2</td>\n",
       "      <td>308</td>\n",
       "      <td>0.0</td>\n",
       "      <td>1</td>\n",
       "      <td>45</td>\n",
       "      <td>170</td>\n",
       "      <td>0</td>\n",
       "      <td>0</td>\n",
       "    </tr>\n",
       "    <tr>\n",
       "      <th>ryoo3j</th>\n",
       "      <td>2</td>\n",
       "      <td>normal</td>\n",
       "      <td>110</td>\n",
       "      <td>3</td>\n",
       "      <td>0</td>\n",
       "      <td>0</td>\n",
       "      <td>0</td>\n",
       "      <td>214</td>\n",
       "      <td>1.6</td>\n",
       "      <td>0</td>\n",
       "      <td>54</td>\n",
       "      <td>158</td>\n",
       "      <td>0</td>\n",
       "      <td>0</td>\n",
       "    </tr>\n",
       "    <tr>\n",
       "      <th>yt1s1x</th>\n",
       "      <td>1</td>\n",
       "      <td>normal</td>\n",
       "      <td>125</td>\n",
       "      <td>4</td>\n",
       "      <td>3</td>\n",
       "      <td>0</td>\n",
       "      <td>2</td>\n",
       "      <td>304</td>\n",
       "      <td>0.0</td>\n",
       "      <td>1</td>\n",
       "      <td>77</td>\n",
       "      <td>162</td>\n",
       "      <td>1</td>\n",
       "      <td>1</td>\n",
       "    </tr>\n",
       "    <tr>\n",
       "      <th>l2xjde</th>\n",
       "      <td>1</td>\n",
       "      <td>reversible_defect</td>\n",
       "      <td>152</td>\n",
       "      <td>4</td>\n",
       "      <td>0</td>\n",
       "      <td>0</td>\n",
       "      <td>0</td>\n",
       "      <td>223</td>\n",
       "      <td>0.0</td>\n",
       "      <td>1</td>\n",
       "      <td>40</td>\n",
       "      <td>181</td>\n",
       "      <td>0</td>\n",
       "      <td>1</td>\n",
       "    </tr>\n",
       "    <tr>\n",
       "      <th>oyt4ek</th>\n",
       "      <td>3</td>\n",
       "      <td>reversible_defect</td>\n",
       "      <td>178</td>\n",
       "      <td>1</td>\n",
       "      <td>0</td>\n",
       "      <td>0</td>\n",
       "      <td>2</td>\n",
       "      <td>270</td>\n",
       "      <td>4.2</td>\n",
       "      <td>1</td>\n",
       "      <td>59</td>\n",
       "      <td>145</td>\n",
       "      <td>0</td>\n",
       "      <td>0</td>\n",
       "    </tr>\n",
       "  </tbody>\n",
       "</table>\n",
       "</div>"
      ],
      "text/plain": [
       "            slope_of_peak_exercise_st_segment               thal  \\\n",
       "patient_id                                                         \n",
       "0z64un                                      1             normal   \n",
       "ryoo3j                                      2             normal   \n",
       "yt1s1x                                      1             normal   \n",
       "l2xjde                                      1  reversible_defect   \n",
       "oyt4ek                                      3  reversible_defect   \n",
       "\n",
       "            resting_blood_pressure  chest_pain_type  num_major_vessels  \\\n",
       "patient_id                                                               \n",
       "0z64un                         128                2                  0   \n",
       "ryoo3j                         110                3                  0   \n",
       "yt1s1x                         125                4                  3   \n",
       "l2xjde                         152                4                  0   \n",
       "oyt4ek                         178                1                  0   \n",
       "\n",
       "            fasting_blood_sugar_gt_120_mg_per_dl  resting_ekg_results  \\\n",
       "patient_id                                                              \n",
       "0z64un                                         0                    2   \n",
       "ryoo3j                                         0                    0   \n",
       "yt1s1x                                         0                    2   \n",
       "l2xjde                                         0                    0   \n",
       "oyt4ek                                         0                    2   \n",
       "\n",
       "            serum_cholesterol_mg_per_dl  oldpeak_eq_st_depression  sex  age  \\\n",
       "patient_id                                                                    \n",
       "0z64un                              308                       0.0    1   45   \n",
       "ryoo3j                              214                       1.6    0   54   \n",
       "yt1s1x                              304                       0.0    1   77   \n",
       "l2xjde                              223                       0.0    1   40   \n",
       "oyt4ek                              270                       4.2    1   59   \n",
       "\n",
       "            max_heart_rate_achieved  exercise_induced_angina  \\\n",
       "patient_id                                                     \n",
       "0z64un                          170                        0   \n",
       "ryoo3j                          158                        0   \n",
       "yt1s1x                          162                        1   \n",
       "l2xjde                          181                        0   \n",
       "oyt4ek                          145                        0   \n",
       "\n",
       "            heart_disease_present  \n",
       "patient_id                         \n",
       "0z64un                          0  \n",
       "ryoo3j                          0  \n",
       "yt1s1x                          1  \n",
       "l2xjde                          1  \n",
       "oyt4ek                          0  "
      ]
     },
     "execution_count": 2,
     "metadata": {},
     "output_type": "execute_result"
    }
   ],
   "source": [
    "# First Look\n",
    "df.head()"
   ]
  },
  {
   "cell_type": "markdown",
   "metadata": {},
   "source": [
    "# Exploratory Data Analysis\n",
    " \n",
    "After loading the labeled data, we can observe that 80 observations are cases in which heart disease is present and 100 observations are cases in which heart disease is absent.\n",
    "\n",
    "To get a sense of what features might be predictive I'll do some exploratory analysis of the data. I will use some automated feature selection techniques later, but the exploratory analysis will help me get a feel for the data and any issues there might be for using it to create a predictive model. One potential issue is that there are several categorical variables with multiple levels that will need to be split up into binary variables. Given that there are not many observations to work with, I am concerned about having too many features. For example, there are four types of chest pain. But, binary variables will work better with the model since the model could infer there is a scale present among the four types of chest pain when there is not (in this case there may actually be a scale, but since it is not stated in the documentation we shouldn't assume that there is). We can just replace this feature with a few binary variables, e.g. 'chest pain type one present', but if there is a way to do it without introducing more features than necessary we should find it. I expect we will find some sparse categories so hopefully we will find a sensible way to combine them.  \n",
    "\n",
    "First I plot the counts of the categorical variables against the target variable so we can see which variables will be predictive and how we might go about creating binary variables from them for modeling."
   ]
  },
  {
   "cell_type": "code",
   "execution_count": 3,
   "metadata": {},
   "outputs": [
    {
     "data": {
      "text/plain": [
       "<matplotlib.axes._subplots.AxesSubplot at 0x1efdc7d1710>"
      ]
     },
     "execution_count": 3,
     "metadata": {},
     "output_type": "execute_result"
    },
    {
     "data": {
      "image/png": "[encoded data removed]",
      "text/plain": [
       "<Figure size 432x288 with 1 Axes>"
      ]
     },
     "metadata": {
      "needs_background": "light"
     },
     "output_type": "display_data"
    }
   ],
   "source": [
    "sns.countplot(x='sex', hue='heart_disease_present', data=df)"
   ]
  },
  {
   "cell_type": "code",
   "execution_count": 4,
   "metadata": {},
   "outputs": [
    {
     "data": {
      "text/plain": [
       "<matplotlib.axes._subplots.AxesSubplot at 0x1efde8b72e8>"
      ]
     },
     "execution_count": 4,
     "metadata": {},
     "output_type": "execute_result"
    },
    {
     "data": {
      "image/png": "[encoded data removed]",
      "text/plain": [
       "<Figure size 432x288 with 1 Axes>"
      ]
     },
     "metadata": {
      "needs_background": "light"
     },
     "output_type": "display_data"
    }
   ],
   "source": [
    "sns.countplot(x='chest_pain_type', hue='heart_disease_present', data=df)"
   ]
  },
  {
   "cell_type": "code",
   "execution_count": 5,
   "metadata": {},
   "outputs": [
    {
     "data": {
      "text/plain": [
       "<matplotlib.axes._subplots.AxesSubplot at 0x1efdf914748>"
      ]
     },
     "execution_count": 5,
     "metadata": {},
     "output_type": "execute_result"
    },
    {
     "data": {
      "image/png": "[encoded data removed]",
      "text/plain": [
       "<Figure size 432x288 with 1 Axes>"
      ]
     },
     "metadata": {
      "needs_background": "light"
     },
     "output_type": "display_data"
    }
   ],
   "source": [
    "sns.countplot(x='thal', hue='heart_disease_present', data=df)"
   ]
  },
  {
   "cell_type": "code",
   "execution_count": 6,
   "metadata": {},
   "outputs": [
    {
     "data": {
      "text/plain": [
       "<matplotlib.axes._subplots.AxesSubplot at 0x1efdf981630>"
      ]
     },
     "execution_count": 6,
     "metadata": {},
     "output_type": "execute_result"
    },
    {
     "data": {
      "image/png": "[encoded data removed]",
      "text/plain": [
       "<Figure size 432x288 with 1 Axes>"
      ]
     },
     "metadata": {
      "needs_background": "light"
     },
     "output_type": "display_data"
    }
   ],
   "source": [
    "sns.countplot(x='slope_of_peak_exercise_st_segment', hue='heart_disease_present', data=df)"
   ]
  },
  {
   "cell_type": "code",
   "execution_count": 7,
   "metadata": {},
   "outputs": [
    {
     "data": {
      "text/plain": [
       "<matplotlib.axes._subplots.AxesSubplot at 0x1efdf9d5908>"
      ]
     },
     "execution_count": 7,
     "metadata": {},
     "output_type": "execute_result"
    },
    {
     "data": {
      "image/png": "[encoded data removed]",
      "text/plain": [
       "<Figure size 432x288 with 1 Axes>"
      ]
     },
     "metadata": {
      "needs_background": "light"
     },
     "output_type": "display_data"
    }
   ],
   "source": [
    "sns.countplot(x='num_major_vessels', hue='heart_disease_present', data=df)"
   ]
  },
  {
   "cell_type": "code",
   "execution_count": 8,
   "metadata": {},
   "outputs": [
    {
     "data": {
      "text/plain": [
       "<matplotlib.axes._subplots.AxesSubplot at 0x1efdfa556a0>"
      ]
     },
     "execution_count": 8,
     "metadata": {},
     "output_type": "execute_result"
    },
    {
     "data": {
      "image/png": "[encoded data removed]",
      "text/plain": [
       "<Figure size 432x288 with 1 Axes>"
      ]
     },
     "metadata": {
      "needs_background": "light"
     },
     "output_type": "display_data"
    }
   ],
   "source": [
    "sns.countplot(x='resting_ekg_results', hue='heart_disease_present', data=df)"
   ]
  },
  {
   "cell_type": "code",
   "execution_count": 9,
   "metadata": {},
   "outputs": [
    {
     "data": {
      "text/plain": [
       "<matplotlib.axes._subplots.AxesSubplot at 0x1efdfab5b00>"
      ]
     },
     "execution_count": 9,
     "metadata": {},
     "output_type": "execute_result"
    },
    {
     "data": {
      "image/png": "[encoded data removed]",
      "text/plain": [
       "<Figure size 432x288 with 1 Axes>"
      ]
     },
     "metadata": {
      "needs_background": "light"
     },
     "output_type": "display_data"
    }
   ],
   "source": [
    "sns.countplot(x='exercise_induced_angina', hue='heart_disease_present', data=df)"
   ]
  },
  {
   "cell_type": "markdown",
   "metadata": {},
   "source": [
    "As we can see in the above charts, there are several categories that are sparse, e.g. 'fixed defect' in the 'thal' column is only present for a handful of observations. So it should help the modelling if we can do something to effectively get rid of this category. Now let's take a look a couple numeric features. "
   ]
  },
  {
   "cell_type": "code",
   "execution_count": 10,
   "metadata": {
    "scrolled": true
   },
   "outputs": [
    {
     "name": "stderr",
     "output_type": "stream",
     "text": [
      "C:\\Users\\jpkel\\Anaconda3\\lib\\site-packages\\scipy\\stats\\stats.py:1713: FutureWarning: Using a non-tuple sequence for multidimensional indexing is deprecated; use `arr[tuple(seq)]` instead of `arr[seq]`. In the future this will be interpreted as an array index, `arr[np.array(seq)]`, which will result either in an error or a different result.\n",
      "  return np.add.reduce(sorted[indexer] * weights, axis=axis) / sumval\n"
     ]
    },
    {
     "data": {
      "text/plain": [
       "<matplotlib.axes._subplots.AxesSubplot at 0x1efdfb0d780>"
      ]
     },
     "execution_count": 10,
     "metadata": {},
     "output_type": "execute_result"
    },
    {
     "data": {
      "image/png": "[encoded data removed]",
      "text/plain": [
       "<Figure size 432x288 with 1 Axes>"
      ]
     },
     "metadata": {
      "needs_background": "light"
     },
     "output_type": "display_data"
    }
   ],
   "source": [
    "sns.distplot(df['resting_blood_pressure'])"
   ]
  },
  {
   "cell_type": "code",
   "execution_count": 11,
   "metadata": {},
   "outputs": [
    {
     "data": {
      "text/plain": [
       "<matplotlib.axes._subplots.AxesSubplot at 0x1efdfaa2128>"
      ]
     },
     "execution_count": 11,
     "metadata": {},
     "output_type": "execute_result"
    },
    {
     "data": {
      "image/png": "[encoded data removed]",
      "text/plain": [
       "<Figure size 432x288 with 1 Axes>"
      ]
     },
     "metadata": {
      "needs_background": "light"
     },
     "output_type": "display_data"
    }
   ],
   "source": [
    "sns.distplot(df['max_heart_rate_achieved'])"
   ]
  },
  {
   "cell_type": "markdown",
   "metadata": {},
   "source": [
    "The resting blood pressure has an interesting distribution. One thing that could be interesting to do is to convert it into an ordinal feature. We would lose some of the fine-grained detail but it might make it an easier feature for the machine learning algorithms to work with (this is something I'll have to do some research on). "
   ]
  },
  {
   "cell_type": "markdown",
   "metadata": {},
   "source": [
    "# Feature Engineering\n",
    "\n",
    "In this section, we will use what we learned during EDA to create better features for the model. \n",
    "\n",
    "First lets address the chest pain type feature. We saw above that chest pain type 4 is indicative of the presence of heart disease while the other types are indicative of the absence of heart disease. So we can create a new feature called chest pain type 4 which just records for each observation whether chest pain type 4 is present or not. We will treat the other categorical variables similarly. Below you can see the results in the dataframe 'df_new_cat_var'."
   ]
  },
  {
   "cell_type": "code",
   "execution_count": 12,
   "metadata": {},
   "outputs": [],
   "source": [
    "#Manual Feature Engineering\n",
    "df_manual_features = pd.read_csv('train_values.csv', index_col=0)\n",
    "df_test_manual_features = pd.read_csv('test_values.csv', index_col=0)\n",
    "\n",
    "pain_map = {1:0, 2:0, 3:0, 4:1} \n",
    "df_manual_features['chest_pain_type_4'] = df_values['chest_pain_type'].map(pain_map) \n",
    "df_test_manual_features['chest_pain_type_4'] = df_test_values['chest_pain_type'].map(pain_map)\n",
    "\n",
    "thal_map = {'normal':0, 'reversible_defect':1, 'fixed_defect':0}\n",
    "df_manual_features['thal_reversible'] = df_values['thal'].map(thal_map)\n",
    "df_test_manual_features['thal_reversible'] = df_test_values['thal'].map(thal_map)\n",
    "\n",
    "slope_map = {3:1, 2:1, 1:0}\n",
    "df_manual_features['slope_high'] = df_values['slope_of_peak_exercise_st_segment'].map(slope_map)\n",
    "df_test_manual_features['slope_high'] = df_test_values['slope_of_peak_exercise_st_segment'].map(slope_map)\n",
    "\n",
    "vessel_map = {3:1, 2:1, 1:1, 0:0}\n",
    "df_manual_features['vessel_high'] = df_values['num_major_vessels'].map(vessel_map)\n",
    "df_test_manual_features['vessel_high'] = df_test_values['num_major_vessels'].map(vessel_map)\n",
    "\n",
    "resting_map = {0:1, 1:0, 2:0}\n",
    "df_manual_features['resting_low'] = df_values['resting_ekg_results'].map(vessel_map)\n",
    "df_test_manual_features['resting_low'] = df_test_values['resting_ekg_results'].map(vessel_map)\n",
    "\n",
    "df_manual_features.drop(columns=['chest_pain_type', 'thal', 'slope_of_peak_exercise_st_segment', 'num_major_vessels', 'resting_ekg_results'], inplace=True)\n",
    "df_test_manual_features.drop(columns=['chest_pain_type', 'thal', 'slope_of_peak_exercise_st_segment', 'num_major_vessels', 'resting_ekg_results'], inplace=True)\n",
    "\n"
   ]
  },
  {
   "cell_type": "markdown",
   "metadata": {},
   "source": [
    "Now I will try some automated feature selection techniques."
   ]
  },
  {
   "cell_type": "code",
   "execution_count": 13,
   "metadata": {},
   "outputs": [
    {
     "name": "stderr",
     "output_type": "stream",
     "text": [
      "C:\\Users\\jpkel\\Anaconda3\\lib\\site-packages\\sklearn\\utils\\validation.py:752: DataConversionWarning: A column-vector y was passed when a 1d array was expected. Please change the shape of y to (n_samples, ), for example using ravel().\n",
      "  y = column_or_1d(y, warn=True)\n"
     ]
    },
    {
     "data": {
      "text/html": [
       "<div>\n",
       "<style scoped>\n",
       "    .dataframe tbody tr th:only-of-type {\n",
       "        vertical-align: middle;\n",
       "    }\n",
       "\n",
       "    .dataframe tbody tr th {\n",
       "        vertical-align: top;\n",
       "    }\n",
       "\n",
       "    .dataframe thead th {\n",
       "        text-align: right;\n",
       "    }\n",
       "</style>\n",
       "<table border=\"1\" class=\"dataframe\">\n",
       "  <thead>\n",
       "    <tr style=\"text-align: right;\">\n",
       "      <th></th>\n",
       "      <th>column</th>\n",
       "      <th>p_value</th>\n",
       "    </tr>\n",
       "  </thead>\n",
       "  <tbody>\n",
       "    <tr>\n",
       "      <th>9</th>\n",
       "      <td>thal_reversible</td>\n",
       "      <td>3.787200e-14</td>\n",
       "    </tr>\n",
       "    <tr>\n",
       "      <th>8</th>\n",
       "      <td>chest_pain_type_4</td>\n",
       "      <td>4.111484e-13</td>\n",
       "    </tr>\n",
       "    <tr>\n",
       "      <th>7</th>\n",
       "      <td>exercise_induced_angina</td>\n",
       "      <td>2.679484e-10</td>\n",
       "    </tr>\n",
       "    <tr>\n",
       "      <th>11</th>\n",
       "      <td>vessel_high</td>\n",
       "      <td>9.514609e-09</td>\n",
       "    </tr>\n",
       "    <tr>\n",
       "      <th>3</th>\n",
       "      <td>oldpeak_eq_st_depression</td>\n",
       "      <td>1.124371e-07</td>\n",
       "    </tr>\n",
       "    <tr>\n",
       "      <th>6</th>\n",
       "      <td>max_heart_rate_achieved</td>\n",
       "      <td>2.081706e-07</td>\n",
       "    </tr>\n",
       "    <tr>\n",
       "      <th>10</th>\n",
       "      <td>slope_high</td>\n",
       "      <td>4.556177e-07</td>\n",
       "    </tr>\n",
       "    <tr>\n",
       "      <th>4</th>\n",
       "      <td>sex</td>\n",
       "      <td>4.167617e-06</td>\n",
       "    </tr>\n",
       "    <tr>\n",
       "      <th>12</th>\n",
       "      <td>resting_low</td>\n",
       "      <td>4.194226e-02</td>\n",
       "    </tr>\n",
       "    <tr>\n",
       "      <th>5</th>\n",
       "      <td>age</td>\n",
       "      <td>6.419006e-02</td>\n",
       "    </tr>\n",
       "    <tr>\n",
       "      <th>2</th>\n",
       "      <td>serum_cholesterol_mg_per_dl</td>\n",
       "      <td>2.870873e-01</td>\n",
       "    </tr>\n",
       "    <tr>\n",
       "      <th>0</th>\n",
       "      <td>resting_blood_pressure</td>\n",
       "      <td>2.948484e-01</td>\n",
       "    </tr>\n",
       "    <tr>\n",
       "      <th>1</th>\n",
       "      <td>fasting_blood_sugar_gt_120_mg_per_dl</td>\n",
       "      <td>9.640919e-01</td>\n",
       "    </tr>\n",
       "  </tbody>\n",
       "</table>\n",
       "</div>"
      ],
      "text/plain": [
       "                                  column       p_value\n",
       "9                        thal_reversible  3.787200e-14\n",
       "8                      chest_pain_type_4  4.111484e-13\n",
       "7                exercise_induced_angina  2.679484e-10\n",
       "11                           vessel_high  9.514609e-09\n",
       "3               oldpeak_eq_st_depression  1.124371e-07\n",
       "6                max_heart_rate_achieved  2.081706e-07\n",
       "10                            slope_high  4.556177e-07\n",
       "4                                    sex  4.167617e-06\n",
       "12                           resting_low  4.194226e-02\n",
       "5                                    age  6.419006e-02\n",
       "2            serum_cholesterol_mg_per_dl  2.870873e-01\n",
       "0                 resting_blood_pressure  2.948484e-01\n",
       "1   fasting_blood_sugar_gt_120_mg_per_dl  9.640919e-01"
      ]
     },
     "metadata": {},
     "output_type": "display_data"
    }
   ],
   "source": [
    "from sklearn.feature_selection import SelectKBest\n",
    "from sklearn.feature_selection import f_classif\n",
    "\n",
    "k_best = SelectKBest(f_classif, k='all')\n",
    "k_best.fit_transform(df_manual_features, df_labels)\n",
    "p_values = pd.DataFrame({'column':df_manual_features.columns, 'p_value':k_best.pvalues_}).sort_values('p_value')\n",
    "display(p_values)"
   ]
  },
  {
   "cell_type": "markdown",
   "metadata": {},
   "source": [
    "This is the resulting p-values from an ANOVA. We can see that a few of the features have high p-values."
   ]
  },
  {
   "cell_type": "code",
   "execution_count": 14,
   "metadata": {},
   "outputs": [
    {
     "data": {
      "text/plain": [
       "array(['thal_reversible', 'max_heart_rate_achieved', 'chest_pain_type_4',\n",
       "       'vessel_high', 'oldpeak_eq_st_depression', 'sex',\n",
       "       'serum_cholesterol_mg_per_dl', 'slope_high',\n",
       "       'resting_blood_pressure'], dtype=object)"
      ]
     },
     "execution_count": 14,
     "metadata": {},
     "output_type": "execute_result"
    }
   ],
   "source": [
    "from sklearn.tree import DecisionTreeClassifier\n",
    "tree = DecisionTreeClassifier()\n",
    "X = df_manual_features\n",
    "y = df_labels.values\n",
    "tree.fit(X,y)\n",
    "tree_importances = pd.DataFrame({'importance':tree.feature_importances_,'feature':X.columns}).sort_values('importance',ascending=False)\n",
    "#display(importances)\n",
    "tree_features = tree_importances[tree_importances['importance']>0.05].feature.values\n",
    "tree_feautres = list(tree_features)\n",
    "tree_features"
   ]
  },
  {
   "cell_type": "markdown",
   "metadata": {},
   "source": [
    "This list of features are those a basic decision tree classifier found predictive of the presence of cardiovascular disease. In both cases resting blood pressure and fasting blood sugar seem unhelpful (which is surpising to me), so I will not include them."
   ]
  },
  {
   "cell_type": "code",
   "execution_count": 15,
   "metadata": {},
   "outputs": [],
   "source": [
    "best_features = ['max_heart_rate_achieved', 'oldpeak_eq_st_depression', 'thal_reversible', 'chest_pain_type_4', 'exercise_induced_angina', 'vessel_high', 'serum_cholesterol_mg_per_dl', 'slope_high', 'sex', 'age', 'resting_low']"
   ]
  },
  {
   "cell_type": "markdown",
   "metadata": {},
   "source": [
    "# Model\n",
    "\n",
    "I am now going to create a predictive model using Keras"
   ]
  },
  {
   "cell_type": "code",
   "execution_count": 17,
   "metadata": {},
   "outputs": [
    {
     "name": "stderr",
     "output_type": "stream",
     "text": [
      "C:\\Users\\jpkel\\Anaconda3\\lib\\site-packages\\sklearn\\preprocessing\\data.py:617: DataConversionWarning: Data with input dtype int64, float64 were all converted to float64 by StandardScaler.\n",
      "  return self.partial_fit(X, y)\n",
      "C:\\Users\\jpkel\\Anaconda3\\lib\\site-packages\\sklearn\\base.py:462: DataConversionWarning: Data with input dtype int64, float64 were all converted to float64 by StandardScaler.\n",
      "  return self.fit(X, **fit_params).transform(X)\n",
      "C:\\Users\\jpkel\\Anaconda3\\lib\\site-packages\\ipykernel_launcher.py:25: DataConversionWarning: Data with input dtype int64, float64 were all converted to float64 by StandardScaler.\n",
      "C:\\Users\\jpkel\\Anaconda3\\lib\\site-packages\\ipykernel_launcher.py:28: DataConversionWarning: Data with input dtype int64, float64 were all converted to float64 by StandardScaler.\n"
     ]
    },
    {
     "name": "stdout",
     "output_type": "stream",
     "text": [
      "Train on 115 samples, validate on 29 samples\n",
      "Epoch 1/50\n",
      "115/115 [==============================] - 0s 3ms/step - loss: 0.6938 - acc: 0.4348 - val_loss: 0.6486 - val_acc: 0.8621\n",
      "Epoch 2/50\n",
      "115/115 [==============================] - 0s 34us/step - loss: 0.6526 - acc: 0.7826 - val_loss: 0.6249 - val_acc: 0.8621\n",
      "Epoch 3/50\n",
      "115/115 [==============================] - 0s 35us/step - loss: 0.6205 - acc: 0.8696 - val_loss: 0.5953 - val_acc: 0.8276\n",
      "Epoch 4/50\n",
      "115/115 [==============================] - 0s 69us/step - loss: 0.5850 - acc: 0.8609 - val_loss: 0.5633 - val_acc: 0.8276\n",
      "Epoch 5/50\n",
      "115/115 [==============================] - 0s 34us/step - loss: 0.5488 - acc: 0.8696 - val_loss: 0.5314 - val_acc: 0.8621\n",
      "Epoch 6/50\n",
      "115/115 [==============================] - 0s 34us/step - loss: 0.5136 - acc: 0.8696 - val_loss: 0.4987 - val_acc: 0.8621\n",
      "Epoch 7/50\n",
      "115/115 [==============================] - 0s 56us/step - loss: 0.4767 - acc: 0.8609 - val_loss: 0.4684 - val_acc: 0.8621\n",
      "Epoch 8/50\n",
      "115/115 [==============================] - 0s 38us/step - loss: 0.4415 - acc: 0.8609 - val_loss: 0.4416 - val_acc: 0.8276\n",
      "Epoch 9/50\n",
      "115/115 [==============================] - 0s 73us/step - loss: 0.4075 - acc: 0.8609 - val_loss: 0.4215 - val_acc: 0.8276\n",
      "Epoch 10/50\n",
      "115/115 [==============================] - 0s 30us/step - loss: 0.3774 - acc: 0.8609 - val_loss: 0.4105 - val_acc: 0.8621\n",
      "Epoch 11/50\n",
      "115/115 [==============================] - 0s 30us/step - loss: 0.3522 - acc: 0.8609 - val_loss: 0.4091 - val_acc: 0.8276\n",
      "Epoch 12/50\n",
      "115/115 [==============================] - 0s 56us/step - loss: 0.3330 - acc: 0.8609 - val_loss: 0.4159 - val_acc: 0.8276\n",
      "Epoch 13/50\n",
      "115/115 [==============================] - 0s 35us/step - loss: 0.3188 - acc: 0.8609 - val_loss: 0.4278 - val_acc: 0.7931\n",
      "Epoch 14/50\n",
      "115/115 [==============================] - 0s 39us/step - loss: 0.3078 - acc: 0.8696 - val_loss: 0.4409 - val_acc: 0.7931\n"
     ]
    },
    {
     "data": {
      "text/plain": [
       "array([[73,  6],\n",
       "       [14, 51]], dtype=int64)"
      ]
     },
     "metadata": {},
     "output_type": "display_data"
    },
    {
     "data": {
      "text/plain": [
       "array([[21,  0],\n",
       "       [ 3, 12]], dtype=int64)"
      ]
     },
     "metadata": {},
     "output_type": "display_data"
    },
    {
     "data": {
      "text/plain": [
       "0.27930989156528896"
      ]
     },
     "metadata": {},
     "output_type": "display_data"
    }
   ],
   "source": [
    "import keras\n",
    "from keras.models import Sequential\n",
    "from keras.layers import Dense\n",
    "from keras.callbacks import EarlyStopping\n",
    "from sklearn.model_selection import train_test_split\n",
    "from sklearn.metrics import confusion_matrix\n",
    "from sklearn.preprocessing import StandardScaler\n",
    "from sklearn.metrics import log_loss\n",
    "from sklearn.metrics import confusion_matrix\n",
    "\n",
    "\n",
    "#Split Data\n",
    "X = df_manual_features[best_features]\n",
    "y = df_labels['heart_disease_present'].values\n",
    "X_train, X_test, y_train, y_test = train_test_split(X, y, test_size=0.20, random_state=1234)\n",
    "\n",
    "#Scale Numeric Variables\n",
    "scaler = StandardScaler()\n",
    "\n",
    "X_train_index = X_train.index\n",
    "X_test_index = X_test.index\n",
    "col_names = X_train.columns.values\n",
    "\n",
    "X_train_scaled = pd.DataFrame(scaler.fit_transform(X_train), index=X_train_index, columns = col_names)\n",
    "X_test_scaled = pd.DataFrame(scaler.transform(X_test), index=X_test_index, columns = col_names)\n",
    "\n",
    "df_test_index = df_test_manual_features[best_features].index\n",
    "df_test_values_scaled = pd.DataFrame(scaler.transform(df_test_manual_features[best_features]), index=df_test_index, columns = col_names)\n",
    "\n",
    "model = Sequential()\n",
    "\n",
    "n_cols = X.shape[1]\n",
    "\n",
    "model.add(Dense(units=150, activation='relu', input_shape=(n_cols,)))\n",
    "model.add(Dense(units=150, activation='relu'))\n",
    "model.add(Dense(units=150, activation='relu'))\n",
    "model.add(Dense(units=150, activation='relu'))\n",
    "model.add(Dense(units=1, activation='sigmoid'))\n",
    "\n",
    "adam = keras.optimizers.Adam(lr=0.001, beta_1=0.9, beta_2=0.999, epsilon=None, decay=0.0, amsgrad=False)\n",
    "model.compile(loss='binary_crossentropy', optimizer=adam, metrics=['accuracy'])\n",
    "\n",
    "early_stopping_monitor = EarlyStopping(patience=3)\n",
    "model.fit(X_train_scaled, y_train, batch_size=200, epochs=50, validation_split = .2, callbacks = [early_stopping_monitor])\n",
    "\n",
    "#loss_and_metrics = model.evaluate(X_test, y_test)\n",
    "y_pred = model.predict(X_train_scaled)\n",
    "y_test_pred = np.round(model.predict(X_test_scaled)[:,0])\n",
    "predicted_prob_true = y_pred[:,0]\n",
    "prediction = np.round(predicted_prob_true)\n",
    "display(confusion_matrix(y_train, prediction))\n",
    "display(confusion_matrix(y_test, y_test_pred))\n",
    "display(log_loss(y_test, model.predict(X_test_scaled)[:,0], eps=1e-15))\n"
   ]
  },
  {
   "cell_type": "code",
   "execution_count": 18,
   "metadata": {},
   "outputs": [],
   "source": [
    "submission = pd.DataFrame(model.predict(df_test_values_scaled)[:,0], index = df_test_index, columns=['heart_disease_present'])\n",
    "submission.to_csv('submission.csv')"
   ]
  },
  {
   "cell_type": "markdown",
   "metadata": {},
   "source": [
    "# Model Evaluation\n",
    "\n",
    "Driven Data scores the model using the log loss of the model. This model has a log loss of .337 on the test data provided Driven Data. This puts the model performance in the top 100 of over 1000 submissions so I will consider this a successful first attempt at making a neural net predictive model. "
   ]
  },
  {
   "cell_type": "code",
   "execution_count": null,
   "metadata": {},
   "outputs": [],
   "source": []
  }
 ],
 "metadata": {
  "kernelspec": {
   "display_name": "Python 3",
   "language": "python",
   "name": "python3"
  },
  "language_info": {
   "codemirror_mode": {
    "name": "ipython",
    "version": 3
   },
   "file_extension": ".py",
   "mimetype": "text/x-python",
   "name": "python",
   "nbconvert_exporter": "python",
   "pygments_lexer": "ipython3",
   "version": "3.6.6"
  }
 },
 "nbformat": 4,
 "nbformat_minor": 2
}
