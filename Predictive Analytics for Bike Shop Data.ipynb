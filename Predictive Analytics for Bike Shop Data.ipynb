{
 "cells": [
  {
   "cell_type": "markdown",
   "metadata": {},
   "source": [
    "# Predictive Analytics for Bike Shop\n",
    "\n",
    "This notebook contains some analysis of bike shop data and two predictive models. One model predicts a categorical feature and the the other model predicts a numeric feature. The analysis and models were used for the final assesment for the __Principles of Machine Learning:__ _Python Edition_ (Microsoft DAT275x) course on edX.com. The notebook proceeds as follows.  First the data is imported and a few minor issues with it are addressed. Then the data is used to answer some basic questions, e.g. do married customers spend more per month on average than single customers? Next, I create some models for predicting whether customers bought a bike and evaluate them. Lastly, I create some models for predicting the average amount spent per month for a given customer and evaluate them.  \n",
    "\n",
    "\n",
    "### Notes on Provided Data\n",
    "\n",
    "Data File Name: AdvWorksCusts.csv\n",
    "\n",
    "Contains Customer demographic data consisting of the following fields:\n",
    "- CustomerID (integer): A unique customer identifier.\n",
    "- Title (string): The customer's formal title (Mr, Mrs, Ms, Miss Dr, etc.)\n",
    "- FirstName (string): The customer's first name.\n",
    "- MiddleName (string): The customer's middle name.\n",
    "- LastName (string): The customer's last name.\n",
    "- Suffix (string): A suffix for the customer name (Jr, Sr, etc.)\n",
    "- AddressLine1 (string): The first line of the customer's home address.\n",
    "- AddressLine2 (string): The second line of the customer's home address.\n",
    "- City (string): The city where the customer lives.\n",
    "- StateProvince (string): The state or province where the customer lives.\n",
    "- CountryRegion (string): The country or region where the customer lives.\n",
    "- PostalCode (string): The postal code for the customer's address.\n",
    "- PhoneNumber (string): The customer's telephone number.\n",
    "- BirthDate (date): The customer's date of birth in the format YYYY-MM-DD.\n",
    "- Education (string): The maximum level of education achieved by the customer:\n",
    "-- Partial High School\n",
    "-- High School\n",
    "-- Partial College\n",
    "-- Bachelors\n",
    "-- Graduate Degree\n",
    "- Occupation (string): The type of job in which the customer is employed:\n",
    "-- Manual\n",
    "-- Skilled Manual\n",
    "-- Clerical\n",
    "-- Management\n",
    "-- Professional\n",
    "- Gender (string): The customer's gender (for example, M for male, F for female, etc.)\n",
    "- MaritalStatus (string): Whether the customer is married (M) or single (S).\n",
    "- HomeOwnerFlag (integer): A Boolean flag indicating whether the customer owns their own home (1) or not (0).\n",
    "- NumberCarsOwned (integer): The number of cars owned by the customer.\n",
    "- NumberChildrenAtHome (integer): The number of children the customer has who live at home.\n",
    "- TotalChildren (integer): The total number of children the customer has.\n",
    "- YearlyIncome (decimal): The annual income of the customer.\n",
    "\n",
    "Data File Name: AW_AveMonthSpend.csv\n",
    "\n",
    "Contains Sales data for existing customers, consisting of the following fields:\n",
    "- CustomerID (integer): The unique identifier for the customer.\n",
    "- AveMonthSpend (decimal): The amount of money the customer spends with Adventure Works Cycles on average each month.\n",
    "\n",
    "Data File Name: AW_BikeBuyer.csv\n",
    "\n",
    "Contains Sales data for existing customers, consisting of the following fields:\n",
    "- CustomerID (integer): The unique identifier for the customer.\n",
    "- BikeBuyer (integer): A Boolean flag indicating whether a customer has previously purchased a bike (1) or not (0)."
   ]
  },
  {
   "cell_type": "code",
   "execution_count": 2,
   "metadata": {},
   "outputs": [],
   "source": [
    "# Import Packages\n",
    "import matplotlib.pyplot as plt\n",
    "import seaborn as sns\n",
    "import pandas as pd\n",
    "import numpy as np\n",
    "%matplotlib inline"
   ]
  },
  {
   "cell_type": "code",
   "execution_count": 3,
   "metadata": {},
   "outputs": [],
   "source": [
    "# Import Training Data\n",
    "data = pd.read_csv('AdvWorksCusts.csv')\n",
    "class_labels = pd.read_csv('AW_BikeBuyer.csv')\n",
    "regression_labels = pd.read_csv('AW_AveMonthSpend.csv')\n",
    "\n",
    "# Import Test Data (Unlabeled for Course Assessment)\n",
    "test = pd.read_csv('AW_test.csv')"
   ]
  },
  {
   "cell_type": "code",
   "execution_count": 4,
   "metadata": {},
   "outputs": [
    {
     "name": "stdout",
     "output_type": "stream",
     "text": [
      "Index(['CustomerID', 'Title', 'FirstName', 'MiddleName', 'LastName', 'Suffix',\n",
      "       'AddressLine1', 'AddressLine2', 'City', 'StateProvinceName',\n",
      "       'CountryRegionName', 'PostalCode', 'PhoneNumber', 'BirthDate',\n",
      "       'Education', 'Occupation', 'Gender', 'MaritalStatus', 'HomeOwnerFlag',\n",
      "       'NumberCarsOwned', 'NumberChildrenAtHome', 'TotalChildren',\n",
      "       'YearlyIncome'],\n",
      "      dtype='object')\n",
      "Index(['CustomerID', 'BikeBuyer'], dtype='object')\n",
      "Index(['CustomerID', 'AveMonthSpend'], dtype='object')\n"
     ]
    }
   ],
   "source": [
    "print(data.columns)\n",
    "print(class_labels.columns)\n",
    "print(regression_labels.columns)"
   ]
  },
  {
   "cell_type": "markdown",
   "metadata": {},
   "source": [
    "### Data Prep\n",
    "\n",
    "Steps:\n",
    "1. Drop Duplicates\n",
    "2. Check for nulls \n",
    "3. Convert to proper data types\n"
   ]
  },
  {
   "cell_type": "code",
   "execution_count": 5,
   "metadata": {},
   "outputs": [],
   "source": [
    "# Drop Duplicates\n",
    "data.drop_duplicates(subset = ['CustomerID'], keep='last', inplace=True)\n",
    "class_labels.drop_duplicates(subset = ['CustomerID'], keep='last', inplace=True)\n",
    "regression_labels.drop_duplicates(subset = ['CustomerID'], keep='last', inplace=True)"
   ]
  },
  {
   "cell_type": "code",
   "execution_count": 6,
   "metadata": {},
   "outputs": [
    {
     "data": {
      "text/plain": [
       "CustomerID                  0\n",
       "Title                   16316\n",
       "FirstName                   0\n",
       "MiddleName               6951\n",
       "LastName                    0\n",
       "Suffix                  16402\n",
       "AddressLine1                0\n",
       "AddressLine2            16131\n",
       "City                        0\n",
       "StateProvinceName           0\n",
       "CountryRegionName           0\n",
       "PostalCode                  0\n",
       "PhoneNumber                 0\n",
       "BirthDate                   0\n",
       "Education                   0\n",
       "Occupation                  0\n",
       "Gender                      0\n",
       "MaritalStatus               0\n",
       "HomeOwnerFlag               0\n",
       "NumberCarsOwned             0\n",
       "NumberChildrenAtHome        0\n",
       "TotalChildren               0\n",
       "YearlyIncome                0\n",
       "dtype: int64"
      ]
     },
     "execution_count": 6,
     "metadata": {},
     "output_type": "execute_result"
    }
   ],
   "source": [
    "# Check for nulls\n",
    "data.isnull().sum()"
   ]
  },
  {
   "cell_type": "markdown",
   "metadata": {},
   "source": [
    "Since these columns with null values are not relevant for prediction I will drop them. Since the names, address, phone number, city, postal code, and State/Province Name will not be used in the model construction I will drop those as well (each is either not relevant or has to many levels)."
   ]
  },
  {
   "cell_type": "code",
   "execution_count": 7,
   "metadata": {},
   "outputs": [],
   "source": [
    "# Drop Columns\n",
    "data.drop(columns=['Title', 'FirstName', 'MiddleName', 'LastName', 'Suffix', 'AddressLine1', 'AddressLine2', 'City', 'StateProvinceName', 'PostalCode', 'PhoneNumber'], inplace=True)"
   ]
  },
  {
   "cell_type": "code",
   "execution_count": 8,
   "metadata": {},
   "outputs": [
    {
     "data": {
      "text/plain": [
       "CustomerID               int64\n",
       "CountryRegionName       object\n",
       "BirthDate               object\n",
       "Education               object\n",
       "Occupation              object\n",
       "Gender                  object\n",
       "MaritalStatus           object\n",
       "HomeOwnerFlag            int64\n",
       "NumberCarsOwned          int64\n",
       "NumberChildrenAtHome     int64\n",
       "TotalChildren            int64\n",
       "YearlyIncome             int64\n",
       "dtype: object"
      ]
     },
     "execution_count": 8,
     "metadata": {},
     "output_type": "execute_result"
    }
   ],
   "source": [
    "# Check data types\n",
    "data.dtypes"
   ]
  },
  {
   "cell_type": "markdown",
   "metadata": {},
   "source": [
    "We can see that BirthDate has the wrong data type."
   ]
  },
  {
   "cell_type": "code",
   "execution_count": 9,
   "metadata": {},
   "outputs": [],
   "source": [
    "# Fix BirthDate data type\n",
    "data['BirthDate'] = pd.to_datetime(data['BirthDate'])"
   ]
  },
  {
   "cell_type": "code",
   "execution_count": 10,
   "metadata": {},
   "outputs": [],
   "source": [
    "# Create DataFrame with Labels\n",
    "df = pd.merge(pd.merge(data, class_labels, on='CustomerID'), regression_labels, on='CustomerID')"
   ]
  },
  {
   "cell_type": "code",
   "execution_count": 11,
   "metadata": {},
   "outputs": [
    {
     "data": {
      "text/plain": [
       "Index(['CustomerID', 'CountryRegionName', 'BirthDate', 'Education',\n",
       "       'Occupation', 'Gender', 'MaritalStatus', 'HomeOwnerFlag',\n",
       "       'NumberCarsOwned', 'NumberChildrenAtHome', 'TotalChildren',\n",
       "       'YearlyIncome', 'BikeBuyer', 'AveMonthSpend'],\n",
       "      dtype='object')"
      ]
     },
     "execution_count": 11,
     "metadata": {},
     "output_type": "execute_result"
    }
   ],
   "source": [
    "df.columns"
   ]
  },
  {
   "cell_type": "markdown",
   "metadata": {},
   "source": [
    "### Some Basic Questions to Answer:\n",
    "1. What is the minimum of the avergae spent per month?\n",
    "\n",
    "2. What is the maximum of the avergae spent per month?\n",
    "\n",
    "3. What is the mean of the avergae spent per month?\n",
    "\n",
    "4. What is the median of the avergae spent per month?\n",
    "\n",
    "5. What is the standard deviation of the avergae spent per month?"
   ]
  },
  {
   "cell_type": "code",
   "execution_count": 12,
   "metadata": {},
   "outputs": [
    {
     "name": "stdout",
     "output_type": "stream",
     "text": [
      "Minimum AveMonthSpend:  22\n",
      "Maximum AveMonthSpend:  176\n",
      "Mean of AveMonthSpend:  72.39100219458669\n",
      "Median AveMonthSpend:  68.0\n",
      "Standard Deviation of AveMonthSpend:  27.26992129964956\n"
     ]
    }
   ],
   "source": [
    "# 1. Minimum AveMonthSpend\n",
    "print('Minimum AveMonthSpend: ', df.AveMonthSpend.min())\n",
    "\n",
    "#2. Maximum AveMonthSpend\n",
    "print('Maximum AveMonthSpend: ', df.AveMonthSpend.max())\n",
    "\n",
    "#3. Mean AveMonthSpend\n",
    "print('Mean of AveMonthSpend: ', df.AveMonthSpend.mean())\n",
    "\n",
    "#4. Median AveMonthSpend\n",
    "print('Median AveMonthSpend: ', df.AveMonthSpend.median())\n",
    "\n",
    "#5. Standard Deviation AveMonthSpend\n",
    "print('Standard Deviation of AveMonthSpend: ', df.AveMonthSpend.std())\n"
   ]
  },
  {
   "cell_type": "markdown",
   "metadata": {},
   "source": [
    "6. The distribution of the values in the BikeBuyer column indicates which of the following:\n",
    " - Fewer customers have bought bikes than have not bought bikes.\n",
    " - More customers have bought bikes than have not bought bikes.\n",
    " - The same number of customers have bought bikes as have not bought bikes."
   ]
  },
  {
   "cell_type": "code",
   "execution_count": 13,
   "metadata": {},
   "outputs": [
    {
     "name": "stdout",
     "output_type": "stream",
     "text": [
      "0    10949\n",
      "1     5455\n",
      "Name: BikeBuyer, dtype: int64\n"
     ]
    }
   ],
   "source": [
    "print(df.BikeBuyer.value_counts())"
   ]
  },
  {
   "cell_type": "markdown",
   "metadata": {},
   "source": [
    "We can see that fewer customers have bought bikes than have not bought bikes (with an approximately 1:2 ratio)."
   ]
  },
  {
   "cell_type": "markdown",
   "metadata": {},
   "source": [
    "7. Select the correct order (from lowest to highest) that ranks the median YearlyIncome by Occupation:\n",
    " - Clerical, Manual, Skilled Manual, Professional, Management\n",
    " - Manual, Skilled Manual, Clerical, Management, Professional\n",
    " - Manual, Clerical, Skilled Manual, Professional, Management\n",
    " - Manual, Clerical, Skilled Manual, Management, Professional"
   ]
  },
  {
   "cell_type": "code",
   "execution_count": 14,
   "metadata": {},
   "outputs": [
    {
     "name": "stdout",
     "output_type": "stream",
     "text": [
      "Occupation\n",
      "Manual             21722.0\n",
      "Clerical           49481.0\n",
      "Skilled Manual     66471.5\n",
      "Professional       99058.0\n",
      "Management        118781.0\n",
      "Name: YearlyIncome, dtype: float64\n"
     ]
    }
   ],
   "source": [
    "print(df.groupby('Occupation').YearlyIncome.median().sort_values())"
   ]
  },
  {
   "cell_type": "markdown",
   "metadata": {},
   "source": [
    "We can see that the correct order (from lowest to highest) that ranks the median YearlyIncome by Occupation is Manual, Clerical, Skilled Manual, Professional, Management."
   ]
  },
  {
   "cell_type": "markdown",
   "metadata": {},
   "source": [
    "8. Based on their age at the time when the data was collected (1st January 1998), which group of customers accounts for the highest AveMonthSpend values?\n",
    " - Females under 25 years of age.\n",
    " - Males under 25 years of age.\n",
    " - Females aged between 25 and 45.\n",
    " - Males aged between 25 and 45.\n",
    " - Females over 55 years of age.\n",
    " - Males over 55 years of age.\n",
    "\n"
   ]
  },
  {
   "cell_type": "code",
   "execution_count": 15,
   "metadata": {},
   "outputs": [],
   "source": [
    "#Create Age Column\n",
    "from datetime import datetime\n",
    "df['DateCollected'] = '1998-1-1'\n",
    "df['DateCollected'] = pd.to_datetime(df['DateCollected'])\n",
    "df['Age'] = df.DateCollected.sub(df.BirthDate).astype('<m8[Y]')"
   ]
  },
  {
   "cell_type": "code",
   "execution_count": 16,
   "metadata": {},
   "outputs": [
    {
     "name": "stdout",
     "output_type": "stream",
     "text": [
      "Female_Under_25 :  70476\n",
      "Male_Under_25 :  107683\n",
      "Female_Over_55 :  24935\n",
      "Male_Over_55 :  37695\n",
      "Female_In_25_45 :  293929\n",
      "Male_In_25_45 :  473092\n"
     ]
    }
   ],
   "source": [
    "# Create Boolean Masks\n",
    "Female = df.Gender == 'F'\n",
    "Male = df.Gender == 'M'\n",
    "Under_25 = df.Age < 25\n",
    "Over_55 = df.Age >= 55\n",
    "In_25_45 = (df.Age >= 25) & (df.Age < 45)\n",
    "Female_Under_25 = Female & Under_25 \n",
    "Male_Under_25 = Male & Under_25\n",
    "Female_Over_55 = Female & Over_55\n",
    "Male_Over_55 = Male & Over_55\n",
    "Female_In_25_45 = Female & In_25_45\n",
    "Male_In_25_45 = Male & In_25_45\n",
    "\n",
    "# Use Masks to Create Indicator Variable for Each Group\n",
    "df['Female_Under_25'] = Female_Under_25.astype(int)\n",
    "df['Male_Under_25'] = Male_Under_25.astype(int)\n",
    "df['Female_Over_55'] = Female_Over_55.astype(int)\n",
    "df['Male_Over_55'] = Male_Over_55.astype(int)\n",
    "df['Female_In_25_45'] = Female_In_25_45.astype(int)\n",
    "df['Male_In_25_45'] = Male_In_25_45.astype(int)\n",
    "\n",
    "# Print sum of AveMonthSpend for each group\n",
    "gen_age_list = ['Female_Under_25', 'Male_Under_25', 'Female_Over_55', 'Male_Over_55', 'Female_In_25_45', 'Male_In_25_45']\n",
    "\n",
    "for i in gen_age_list:\n",
    "    print(i,': ', df[df[i] == 1].AveMonthSpend.sum())"
   ]
  },
  {
   "cell_type": "markdown",
   "metadata": {},
   "source": [
    "We can see Males aged between 25 and 45 account for the highest AveMonthSpend values."
   ]
  },
  {
   "cell_type": "markdown",
   "metadata": {},
   "source": [
    "9. Which of the following statements about AveMonthSpend are true?\n",
    " - Married customers have a higher median AvgMonthSpend than single customers.\n",
    " - Customers with no car have a higher median AvgMonthSpend than customers with three or more cars.\n",
    " - Male customers have a higher median AvgMonthSpend than female customers.\n",
    " - Female customers have a wider range of AvgMonthSpend values than male customers.\n",
    " - Customers with no children at home have a lower median AvgMonthSpend values than customers with one or more children at home."
   ]
  },
  {
   "cell_type": "code",
   "execution_count": 17,
   "metadata": {},
   "outputs": [
    {
     "data": {
      "text/plain": [
       "MaritalStatus\n",
       "M    74\n",
       "S    62\n",
       "Name: AveMonthSpend, dtype: int64"
      ]
     },
     "execution_count": 17,
     "metadata": {},
     "output_type": "execute_result"
    }
   ],
   "source": [
    "df.groupby('MaritalStatus').AveMonthSpend.median()"
   ]
  },
  {
   "cell_type": "code",
   "execution_count": 18,
   "metadata": {},
   "outputs": [
    {
     "name": "stdout",
     "output_type": "stream",
     "text": [
      "65.0\n",
      "68.0\n"
     ]
    }
   ],
   "source": [
    "print(df[df.NumberCarsOwned == 0].AveMonthSpend.median())\n",
    "print(df[df.NumberCarsOwned > 0].AveMonthSpend.median())"
   ]
  },
  {
   "cell_type": "code",
   "execution_count": 19,
   "metadata": {},
   "outputs": [
    {
     "data": {
      "text/plain": [
       "Gender\n",
       "F    52\n",
       "M    79\n",
       "Name: AveMonthSpend, dtype: int64"
      ]
     },
     "execution_count": 19,
     "metadata": {},
     "output_type": "execute_result"
    }
   ],
   "source": [
    "df.groupby('Gender').AveMonthSpend.median()"
   ]
  },
  {
   "cell_type": "code",
   "execution_count": 20,
   "metadata": {},
   "outputs": [
    {
     "name": "stdout",
     "output_type": "stream",
     "text": [
      "147\n",
      "92\n"
     ]
    }
   ],
   "source": [
    "print(df[df.Gender == 'M'].AveMonthSpend.max() - df[df.Gender == 'M'].AveMonthSpend.min())\n",
    "print(df[df.Gender == 'F'].AveMonthSpend.max() - df[df.Gender == 'F'].AveMonthSpend.min())"
   ]
  },
  {
   "cell_type": "code",
   "execution_count": 21,
   "metadata": {},
   "outputs": [
    {
     "name": "stdout",
     "output_type": "stream",
     "text": [
      "57.0\n",
      "88.0\n"
     ]
    }
   ],
   "source": [
    "print(df[df.NumberChildrenAtHome == 0].AveMonthSpend.median())\n",
    "print(df[df.NumberChildrenAtHome > 0].AveMonthSpend.median())"
   ]
  },
  {
   "cell_type": "markdown",
   "metadata": {},
   "source": [
    "- We can see that married customers __do__ have a higher median AvgMonthSpend than single customers.\n",
    "- We can see that customers with no car __do not__ have a higher median AvgMonthSpend than customers with three or more cars.\n",
    "- We can see that male customers __do__ have a higher median AvgMonthSpend than female customers.\n",
    "- We can see that female customers __do not__ have a wider range of AvgMonthSpend values than male customers.\n",
    "- We can see that customers with no children at home __do__ have a lower median AvgMonthSpend values than customers with one or more children at home."
   ]
  },
  {
   "cell_type": "markdown",
   "metadata": {},
   "source": [
    "10. Which of the following statements about BikeBuyer are true?\n",
    " - The median YearlyIncome is higher for customers who bought a bike than for customers who didn't.\n",
    " - The median number of cars owned by customers who bought a bike is lower than for customers who didn't.\n",
    " - The most common occupation type for customers who bought a bike is skilled manual.\n",
    " - Male customers are more likely to buy bikes than female customers.\n",
    " - A maried customer is more likely to buy a bike."
   ]
  },
  {
   "cell_type": "code",
   "execution_count": 22,
   "metadata": {},
   "outputs": [
    {
     "data": {
      "text/plain": [
       "BikeBuyer\n",
       "0    65957\n",
       "1    96084\n",
       "Name: YearlyIncome, dtype: int64"
      ]
     },
     "execution_count": 22,
     "metadata": {},
     "output_type": "execute_result"
    }
   ],
   "source": [
    "df.groupby('BikeBuyer').YearlyIncome.median()"
   ]
  },
  {
   "cell_type": "code",
   "execution_count": 23,
   "metadata": {},
   "outputs": [
    {
     "data": {
      "text/plain": [
       "BikeBuyer\n",
       "0    1\n",
       "1    2\n",
       "Name: NumberCarsOwned, dtype: int64"
      ]
     },
     "execution_count": 23,
     "metadata": {},
     "output_type": "execute_result"
    }
   ],
   "source": [
    "df.groupby('BikeBuyer').NumberCarsOwned.median()"
   ]
  },
  {
   "cell_type": "code",
   "execution_count": 24,
   "metadata": {},
   "outputs": [
    {
     "data": {
      "text/plain": [
       "BikeBuyer  Occupation    \n",
       "0          Skilled Manual    2903\n",
       "           Professional      2738\n",
       "           Clerical          1981\n",
       "           Management        1702\n",
       "           Manual            1625\n",
       "1          Professional      2184\n",
       "           Skilled Manual    1135\n",
       "           Management        1016\n",
       "           Clerical           616\n",
       "           Manual             504\n",
       "Name: Occupation, dtype: int64"
      ]
     },
     "execution_count": 24,
     "metadata": {},
     "output_type": "execute_result"
    }
   ],
   "source": [
    "df.groupby('BikeBuyer').Occupation.value_counts()"
   ]
  },
  {
   "cell_type": "code",
   "execution_count": 25,
   "metadata": {},
   "outputs": [
    {
     "data": {
      "text/plain": [
       "Gender  BikeBuyer\n",
       "F       0            5881\n",
       "        1            2233\n",
       "M       0            5068\n",
       "        1            3222\n",
       "Name: BikeBuyer, dtype: int64"
      ]
     },
     "execution_count": 25,
     "metadata": {},
     "output_type": "execute_result"
    }
   ],
   "source": [
    "df.groupby('Gender').BikeBuyer.value_counts()"
   ]
  },
  {
   "cell_type": "code",
   "execution_count": 26,
   "metadata": {},
   "outputs": [
    {
     "data": {
      "text/plain": [
       "MaritalStatus  BikeBuyer\n",
       "M              0            6653\n",
       "               1            2199\n",
       "S              0            4296\n",
       "               1            3256\n",
       "Name: BikeBuyer, dtype: int64"
      ]
     },
     "execution_count": 26,
     "metadata": {},
     "output_type": "execute_result"
    }
   ],
   "source": [
    "df.groupby('MaritalStatus').BikeBuyer.value_counts()"
   ]
  },
  {
   "cell_type": "markdown",
   "metadata": {},
   "source": [
    "- We can see that the median YearlyIncome __is__ higher for customers who bought a bike than for customers who didn't.\n",
    "- We can see that the median number of cars owned by customers who bought a bike __is not__ lower than for customers who didn't.\n",
    "- We can see that the most common occupation type for customers who bought a bike __is not__ skilled manual.\n",
    "- We can see that male customers __are__ more likely to buy bikes than female customers.\n",
    "- We can see that a maried customer __is not__ more likely to buy a bike."
   ]
  },
  {
   "cell_type": "markdown",
   "metadata": {},
   "source": [
    "# Classification\n",
    "\n",
    "Steps:\n",
    "1. Convert ordinal data from strings to numbers and get dummy variables for categroical data \n",
    "2. Feature Selection\n",
    "3. Make pipeline\n",
    "4. Find best model"
   ]
  },
  {
   "cell_type": "code",
   "execution_count": 27,
   "metadata": {},
   "outputs": [
    {
     "data": {
      "text/plain": [
       "Index(['CustomerID', 'CountryRegionName', 'BirthDate', 'Education',\n",
       "       'Occupation', 'Gender', 'MaritalStatus', 'HomeOwnerFlag',\n",
       "       'NumberCarsOwned', 'NumberChildrenAtHome', 'TotalChildren',\n",
       "       'YearlyIncome', 'BikeBuyer', 'AveMonthSpend', 'DateCollected', 'Age',\n",
       "       'Female_Under_25', 'Male_Under_25', 'Female_Over_55', 'Male_Over_55',\n",
       "       'Female_In_25_45', 'Male_In_25_45'],\n",
       "      dtype='object')"
      ]
     },
     "execution_count": 27,
     "metadata": {},
     "output_type": "execute_result"
    }
   ],
   "source": [
    "df.columns"
   ]
  },
  {
   "cell_type": "code",
   "execution_count": 28,
   "metadata": {},
   "outputs": [],
   "source": [
    "#Get rid of anything that is not a potential feature, e.g. CustomerID.\n",
    "features = df[['Education', 'Occupation', 'Gender', 'MaritalStatus', 'HomeOwnerFlag',\n",
    "       'NumberCarsOwned', 'NumberChildrenAtHome', 'TotalChildren',\n",
    "       'YearlyIncome', 'Age', 'Female_Under_25',\n",
    "       'Male_Under_25', 'Female_Over_55', 'Male_Over_55', 'Female_In_25_45',\n",
    "       'Male_In_25_45']]"
   ]
  },
  {
   "cell_type": "code",
   "execution_count": 29,
   "metadata": {},
   "outputs": [],
   "source": [
    "#Create dummy variable for categorical variables.\n",
    "dummies = pd.get_dummies(features[['Gender', 'MaritalStatus']], drop_first=True)\n",
    "features = pd.concat([features, dummies], axis=1)\n",
    "features = features.drop(columns=['Gender', 'MaritalStatus'])"
   ]
  },
  {
   "cell_type": "code",
   "execution_count": 30,
   "metadata": {},
   "outputs": [
    {
     "data": {
      "text/html": [
       "<div>\n",
       "<style scoped>\n",
       "    .dataframe tbody tr th:only-of-type {\n",
       "        vertical-align: middle;\n",
       "    }\n",
       "\n",
       "    .dataframe tbody tr th {\n",
       "        vertical-align: top;\n",
       "    }\n",
       "\n",
       "    .dataframe thead th {\n",
       "        text-align: right;\n",
       "    }\n",
       "</style>\n",
       "<table border=\"1\" class=\"dataframe\">\n",
       "  <thead>\n",
       "    <tr style=\"text-align: right;\">\n",
       "      <th></th>\n",
       "      <th>Education</th>\n",
       "      <th>Occupation</th>\n",
       "      <th>HomeOwnerFlag</th>\n",
       "      <th>NumberCarsOwned</th>\n",
       "      <th>NumberChildrenAtHome</th>\n",
       "      <th>TotalChildren</th>\n",
       "      <th>YearlyIncome</th>\n",
       "      <th>Age</th>\n",
       "      <th>Female_Under_25</th>\n",
       "      <th>Male_Under_25</th>\n",
       "      <th>Female_Over_55</th>\n",
       "      <th>Male_Over_55</th>\n",
       "      <th>Female_In_25_45</th>\n",
       "      <th>Male_In_25_45</th>\n",
       "      <th>Gender_M</th>\n",
       "      <th>MaritalStatus_S</th>\n",
       "    </tr>\n",
       "  </thead>\n",
       "  <tbody>\n",
       "    <tr>\n",
       "      <th>0</th>\n",
       "      <td>3</td>\n",
       "      <td>4</td>\n",
       "      <td>1</td>\n",
       "      <td>0</td>\n",
       "      <td>0</td>\n",
       "      <td>2</td>\n",
       "      <td>137947</td>\n",
       "      <td>31.0</td>\n",
       "      <td>0</td>\n",
       "      <td>0</td>\n",
       "      <td>0</td>\n",
       "      <td>0</td>\n",
       "      <td>0</td>\n",
       "      <td>1</td>\n",
       "      <td>1</td>\n",
       "      <td>0</td>\n",
       "    </tr>\n",
       "    <tr>\n",
       "      <th>1</th>\n",
       "      <td>3</td>\n",
       "      <td>4</td>\n",
       "      <td>0</td>\n",
       "      <td>1</td>\n",
       "      <td>3</td>\n",
       "      <td>3</td>\n",
       "      <td>101141</td>\n",
       "      <td>32.0</td>\n",
       "      <td>0</td>\n",
       "      <td>0</td>\n",
       "      <td>0</td>\n",
       "      <td>0</td>\n",
       "      <td>0</td>\n",
       "      <td>1</td>\n",
       "      <td>1</td>\n",
       "      <td>1</td>\n",
       "    </tr>\n",
       "    <tr>\n",
       "      <th>2</th>\n",
       "      <td>3</td>\n",
       "      <td>4</td>\n",
       "      <td>1</td>\n",
       "      <td>1</td>\n",
       "      <td>3</td>\n",
       "      <td>3</td>\n",
       "      <td>91945</td>\n",
       "      <td>32.0</td>\n",
       "      <td>0</td>\n",
       "      <td>0</td>\n",
       "      <td>0</td>\n",
       "      <td>0</td>\n",
       "      <td>0</td>\n",
       "      <td>1</td>\n",
       "      <td>1</td>\n",
       "      <td>0</td>\n",
       "    </tr>\n",
       "    <tr>\n",
       "      <th>3</th>\n",
       "      <td>3</td>\n",
       "      <td>4</td>\n",
       "      <td>0</td>\n",
       "      <td>1</td>\n",
       "      <td>0</td>\n",
       "      <td>0</td>\n",
       "      <td>86688</td>\n",
       "      <td>29.0</td>\n",
       "      <td>0</td>\n",
       "      <td>0</td>\n",
       "      <td>0</td>\n",
       "      <td>0</td>\n",
       "      <td>1</td>\n",
       "      <td>0</td>\n",
       "      <td>0</td>\n",
       "      <td>1</td>\n",
       "    </tr>\n",
       "    <tr>\n",
       "      <th>4</th>\n",
       "      <td>3</td>\n",
       "      <td>4</td>\n",
       "      <td>1</td>\n",
       "      <td>4</td>\n",
       "      <td>5</td>\n",
       "      <td>5</td>\n",
       "      <td>92771</td>\n",
       "      <td>29.0</td>\n",
       "      <td>0</td>\n",
       "      <td>0</td>\n",
       "      <td>0</td>\n",
       "      <td>0</td>\n",
       "      <td>1</td>\n",
       "      <td>0</td>\n",
       "      <td>0</td>\n",
       "      <td>1</td>\n",
       "    </tr>\n",
       "  </tbody>\n",
       "</table>\n",
       "</div>"
      ],
      "text/plain": [
       "   Education  Occupation  HomeOwnerFlag  NumberCarsOwned  \\\n",
       "0          3           4              1                0   \n",
       "1          3           4              0                1   \n",
       "2          3           4              1                1   \n",
       "3          3           4              0                1   \n",
       "4          3           4              1                4   \n",
       "\n",
       "   NumberChildrenAtHome  TotalChildren  YearlyIncome   Age  Female_Under_25  \\\n",
       "0                     0              2        137947  31.0                0   \n",
       "1                     3              3        101141  32.0                0   \n",
       "2                     3              3         91945  32.0                0   \n",
       "3                     0              0         86688  29.0                0   \n",
       "4                     5              5         92771  29.0                0   \n",
       "\n",
       "   Male_Under_25  Female_Over_55  Male_Over_55  Female_In_25_45  \\\n",
       "0              0               0             0                0   \n",
       "1              0               0             0                0   \n",
       "2              0               0             0                0   \n",
       "3              0               0             0                1   \n",
       "4              0               0             0                1   \n",
       "\n",
       "   Male_In_25_45  Gender_M  MaritalStatus_S  \n",
       "0              1         1                0  \n",
       "1              1         1                1  \n",
       "2              1         1                0  \n",
       "3              0         0                1  \n",
       "4              0         0                1  "
      ]
     },
     "execution_count": 30,
     "metadata": {},
     "output_type": "execute_result"
    }
   ],
   "source": [
    "#Map Ordinal Levels to Integers\n",
    "education_map = {'Partial High School':0,  'High School':1,  'Partial College':2, 'Bachelors ':3, 'Graduate Degree':4} \n",
    "features['Education'] = features['Education'].map(education_map) \n",
    "\n",
    "occupation_map = {'Manual':0, 'Skilled Manual':1, 'Clerical':2, 'Management':3, 'Professional':4} \n",
    "features['Occupation'] = features['Occupation'].map(occupation_map)\n",
    "\n",
    "features.head()"
   ]
  },
  {
   "cell_type": "markdown",
   "metadata": {},
   "source": [
    "For some basic feature selection I will use a chi-squared test and look at the p-values."
   ]
  },
  {
   "cell_type": "code",
   "execution_count": 31,
   "metadata": {},
   "outputs": [
    {
     "data": {
      "text/html": [
       "<div>\n",
       "<style scoped>\n",
       "    .dataframe tbody tr th:only-of-type {\n",
       "        vertical-align: middle;\n",
       "    }\n",
       "\n",
       "    .dataframe tbody tr th {\n",
       "        vertical-align: top;\n",
       "    }\n",
       "\n",
       "    .dataframe thead th {\n",
       "        text-align: right;\n",
       "    }\n",
       "</style>\n",
       "<table border=\"1\" class=\"dataframe\">\n",
       "  <thead>\n",
       "    <tr style=\"text-align: right;\">\n",
       "      <th></th>\n",
       "      <th>column</th>\n",
       "      <th>p_value</th>\n",
       "    </tr>\n",
       "  </thead>\n",
       "  <tbody>\n",
       "    <tr>\n",
       "      <th>4</th>\n",
       "      <td>NumberChildrenAtHome</td>\n",
       "      <td>0.000000e+00</td>\n",
       "    </tr>\n",
       "    <tr>\n",
       "      <th>6</th>\n",
       "      <td>YearlyIncome</td>\n",
       "      <td>0.000000e+00</td>\n",
       "    </tr>\n",
       "    <tr>\n",
       "      <th>5</th>\n",
       "      <td>TotalChildren</td>\n",
       "      <td>3.826366e-276</td>\n",
       "    </tr>\n",
       "    <tr>\n",
       "      <th>7</th>\n",
       "      <td>Age</td>\n",
       "      <td>2.428419e-242</td>\n",
       "    </tr>\n",
       "    <tr>\n",
       "      <th>13</th>\n",
       "      <td>Male_In_25_45</td>\n",
       "      <td>5.874451e-158</td>\n",
       "    </tr>\n",
       "    <tr>\n",
       "      <th>1</th>\n",
       "      <td>Occupation</td>\n",
       "      <td>9.113937e-90</td>\n",
       "    </tr>\n",
       "    <tr>\n",
       "      <th>3</th>\n",
       "      <td>NumberCarsOwned</td>\n",
       "      <td>8.009438e-86</td>\n",
       "    </tr>\n",
       "    <tr>\n",
       "      <th>15</th>\n",
       "      <td>MaritalStatus_S</td>\n",
       "      <td>6.412836e-74</td>\n",
       "    </tr>\n",
       "    <tr>\n",
       "      <th>10</th>\n",
       "      <td>Female_Over_55</td>\n",
       "      <td>1.203697e-48</td>\n",
       "    </tr>\n",
       "    <tr>\n",
       "      <th>11</th>\n",
       "      <td>Male_Over_55</td>\n",
       "      <td>7.926407e-45</td>\n",
       "    </tr>\n",
       "    <tr>\n",
       "      <th>14</th>\n",
       "      <td>Gender_M</td>\n",
       "      <td>2.088016e-27</td>\n",
       "    </tr>\n",
       "    <tr>\n",
       "      <th>8</th>\n",
       "      <td>Female_Under_25</td>\n",
       "      <td>1.055304e-15</td>\n",
       "    </tr>\n",
       "    <tr>\n",
       "      <th>9</th>\n",
       "      <td>Male_Under_25</td>\n",
       "      <td>1.635855e-12</td>\n",
       "    </tr>\n",
       "    <tr>\n",
       "      <th>0</th>\n",
       "      <td>Education</td>\n",
       "      <td>3.337690e-07</td>\n",
       "    </tr>\n",
       "    <tr>\n",
       "      <th>12</th>\n",
       "      <td>Female_In_25_45</td>\n",
       "      <td>8.061188e-01</td>\n",
       "    </tr>\n",
       "    <tr>\n",
       "      <th>2</th>\n",
       "      <td>HomeOwnerFlag</td>\n",
       "      <td>9.877066e-01</td>\n",
       "    </tr>\n",
       "  </tbody>\n",
       "</table>\n",
       "</div>"
      ],
      "text/plain": [
       "                  column        p_value\n",
       "4   NumberChildrenAtHome   0.000000e+00\n",
       "6           YearlyIncome   0.000000e+00\n",
       "5          TotalChildren  3.826366e-276\n",
       "7                    Age  2.428419e-242\n",
       "13         Male_In_25_45  5.874451e-158\n",
       "1             Occupation   9.113937e-90\n",
       "3        NumberCarsOwned   8.009438e-86\n",
       "15       MaritalStatus_S   6.412836e-74\n",
       "10        Female_Over_55   1.203697e-48\n",
       "11          Male_Over_55   7.926407e-45\n",
       "14              Gender_M   2.088016e-27\n",
       "8        Female_Under_25   1.055304e-15\n",
       "9          Male_Under_25   1.635855e-12\n",
       "0              Education   3.337690e-07\n",
       "12       Female_In_25_45   8.061188e-01\n",
       "2          HomeOwnerFlag   9.877066e-01"
      ]
     },
     "metadata": {},
     "output_type": "display_data"
    }
   ],
   "source": [
    "from sklearn.feature_selection import SelectKBest\n",
    "from sklearn.feature_selection import chi2\n",
    "\n",
    "k_best = SelectKBest(chi2, k='all')\n",
    "k_best.fit_transform(features, class_labels['BikeBuyer'])\n",
    "p_values = pd.DataFrame({'column':features.columns, 'p_value':k_best.pvalues_}).sort_values('p_value')\n",
    "display(p_values)"
   ]
  },
  {
   "cell_type": "code",
   "execution_count": 32,
   "metadata": {},
   "outputs": [],
   "source": [
    "#Drop Features with high p-value\n",
    "train_features = features.drop(columns=['Female_In_25_45', 'HomeOwnerFlag'])"
   ]
  },
  {
   "cell_type": "code",
   "execution_count": 34,
   "metadata": {},
   "outputs": [
    {
     "name": "stderr",
     "output_type": "stream",
     "text": [
      "C:\\Users\\jpkel\\Anaconda3\\lib\\site-packages\\sklearn\\preprocessing\\data.py:617: DataConversionWarning: Data with input dtype uint8, int32, int64, float64 were all converted to float64 by StandardScaler.\n",
      "  return self.partial_fit(X, y)\n",
      "C:\\Users\\jpkel\\Anaconda3\\lib\\site-packages\\sklearn\\base.py:465: DataConversionWarning: Data with input dtype uint8, int32, int64, float64 were all converted to float64 by StandardScaler.\n",
      "  return self.fit(X, y, **fit_params).transform(X)\n",
      "C:\\Users\\jpkel\\Anaconda3\\lib\\site-packages\\sklearn\\linear_model\\logistic.py:432: FutureWarning: Default solver will be changed to 'lbfgs' in 0.22. Specify a solver to silence this warning.\n",
      "  FutureWarning)\n"
     ]
    },
    {
     "name": "stdout",
     "output_type": "stream",
     "text": [
      "l1 has been fitted\n"
     ]
    },
    {
     "name": "stderr",
     "output_type": "stream",
     "text": [
      "C:\\Users\\jpkel\\Anaconda3\\lib\\site-packages\\sklearn\\preprocessing\\data.py:617: DataConversionWarning: Data with input dtype uint8, int32, int64, float64 were all converted to float64 by StandardScaler.\n",
      "  return self.partial_fit(X, y)\n",
      "C:\\Users\\jpkel\\Anaconda3\\lib\\site-packages\\sklearn\\base.py:465: DataConversionWarning: Data with input dtype uint8, int32, int64, float64 were all converted to float64 by StandardScaler.\n",
      "  return self.fit(X, y, **fit_params).transform(X)\n",
      "C:\\Users\\jpkel\\Anaconda3\\lib\\site-packages\\sklearn\\linear_model\\logistic.py:432: FutureWarning: Default solver will be changed to 'lbfgs' in 0.22. Specify a solver to silence this warning.\n",
      "  FutureWarning)\n"
     ]
    },
    {
     "name": "stdout",
     "output_type": "stream",
     "text": [
      "l2 has been fitted\n"
     ]
    },
    {
     "name": "stderr",
     "output_type": "stream",
     "text": [
      "C:\\Users\\jpkel\\Anaconda3\\lib\\site-packages\\sklearn\\preprocessing\\data.py:617: DataConversionWarning: Data with input dtype uint8, int32, int64, float64 were all converted to float64 by StandardScaler.\n",
      "  return self.partial_fit(X, y)\n",
      "C:\\Users\\jpkel\\Anaconda3\\lib\\site-packages\\sklearn\\base.py:465: DataConversionWarning: Data with input dtype uint8, int32, int64, float64 were all converted to float64 by StandardScaler.\n",
      "  return self.fit(X, y, **fit_params).transform(X)\n"
     ]
    },
    {
     "name": "stdout",
     "output_type": "stream",
     "text": [
      "rf has been fitted\n"
     ]
    },
    {
     "name": "stderr",
     "output_type": "stream",
     "text": [
      "C:\\Users\\jpkel\\Anaconda3\\lib\\site-packages\\sklearn\\preprocessing\\data.py:617: DataConversionWarning: Data with input dtype uint8, int32, int64, float64 were all converted to float64 by StandardScaler.\n",
      "  return self.partial_fit(X, y)\n",
      "C:\\Users\\jpkel\\Anaconda3\\lib\\site-packages\\sklearn\\base.py:465: DataConversionWarning: Data with input dtype uint8, int32, int64, float64 were all converted to float64 by StandardScaler.\n",
      "  return self.fit(X, y, **fit_params).transform(X)\n"
     ]
    },
    {
     "name": "stdout",
     "output_type": "stream",
     "text": [
      "gb has been fitted\n"
     ]
    }
   ],
   "source": [
    "from sklearn.ensemble import RandomForestClassifier\n",
    "from sklearn.ensemble import GradientBoostingClassifier\n",
    "from sklearn.linear_model import LogisticRegression\n",
    "\n",
    "from sklearn.model_selection import train_test_split\n",
    "from sklearn.metrics import confusion_matrix\n",
    "from sklearn.metrics import roc_curve, auc\n",
    "\n",
    "from sklearn.pipeline import make_pipeline\n",
    "from sklearn.preprocessing import StandardScaler\n",
    "from sklearn.model_selection import GridSearchCV\n",
    "\n",
    "X = train_features\n",
    "y = df.BikeBuyer\n",
    "X_train, X_test, y_train, y_test = train_test_split(X,y, test_size=0.2, random_state=1234)\n",
    "\n",
    "\n",
    "# Pipeline dictionary\n",
    "pipeline_dict = {'l1':make_pipeline(StandardScaler(),LogisticRegression(penalty='l1', random_state=123)), \n",
    "                 'l2':make_pipeline(StandardScaler(),LogisticRegression(penalty='l2', random_state=123)),\n",
    "                 'rf':make_pipeline(StandardScaler(),RandomForestClassifier(random_state=123)),\n",
    "                 'gb':make_pipeline(StandardScaler(),GradientBoostingClassifier(random_state=123))}\n",
    "\n",
    "# Logistic Regression hyperparameters\n",
    "l1_hyperparameters = {'logisticregression__C' : np.linspace(1e-3, 1e3, 10),}\n",
    "\n",
    "l2_hyperparameters = {'logisticregression__C' : np.linspace(1e-3, 1e3, 10),}\n",
    "\n",
    "# Random Forest hyperparameters\n",
    "rf_hyperparameters = {'randomforestclassifier__n_estimators': [100, 200], \n",
    "                      'randomforestclassifier__max_features': ['auto', 'sqrt', 0.33]}\n",
    "\n",
    "# Boosted Tree hyperparameters\n",
    "gb_hyperparameters = {'gradientboostingclassifier__n_estimators':[100,200],\n",
    "                      'gradientboostingclassifier__learning_rate':[.05,.1,.2],\n",
    "                      'gradientboostingclassifier__max_depth':[1,3,5]}\n",
    "\n",
    "# Create hyperparameters dictionary\n",
    "hyperparameters = {'l1':l1_hyperparameters,\n",
    "                   'l2':l2_hyperparameters,\n",
    "                   'rf':rf_hyperparameters,\n",
    "                   'gb':gb_hyperparameters}\n",
    "\n",
    "# Create empty dictionary called fitted_models\n",
    "fitted_models={}\n",
    "\n",
    "# Loop through model pipelines, tuning each one and saving it to fitted_models\n",
    "for key, value in pipeline_dict.items():\n",
    "    # Create cross-validation object from pipeline and hyperparameters\n",
    "     model = GridSearchCV(pipeline_dict[key], hyperparameters[key], cv=10, n_jobs=-1)\n",
    "    \n",
    "    # Fit model on X_train, y_train\n",
    "     model.fit(X_train,y_train)\n",
    "    \n",
    "    # Store model in fitted_models[name] \n",
    "     fitted_models[key] = model\n",
    "    \n",
    "    # Print '{name} has been fitted'\n",
    "     print('{} has been fitted'.format(key))"
   ]
  },
  {
   "cell_type": "code",
   "execution_count": 35,
   "metadata": {},
   "outputs": [
    {
     "name": "stdout",
     "output_type": "stream",
     "text": [
      "l1 score:  0.7940257563057228\n",
      "l2 score:  0.7940257563057228\n",
      "rf score:  0.760268231349539\n",
      "gb score:  0.8020269755391298\n",
      "l1 auc:  0.8434515887803085\n",
      "l2 auc:  0.8434566586815722\n",
      "rf auc:  0.8149697284645381\n",
      "gb auc:  0.8576597758258657\n"
     ]
    },
    {
     "name": "stderr",
     "output_type": "stream",
     "text": [
      "C:\\Users\\jpkel\\Anaconda3\\lib\\site-packages\\sklearn\\pipeline.py:381: DataConversionWarning: Data with input dtype uint8, int32, int64, float64 were all converted to float64 by StandardScaler.\n",
      "  Xt = transform.transform(Xt)\n",
      "C:\\Users\\jpkel\\Anaconda3\\lib\\site-packages\\sklearn\\pipeline.py:381: DataConversionWarning: Data with input dtype uint8, int32, int64, float64 were all converted to float64 by StandardScaler.\n",
      "  Xt = transform.transform(Xt)\n",
      "C:\\Users\\jpkel\\Anaconda3\\lib\\site-packages\\sklearn\\pipeline.py:381: DataConversionWarning: Data with input dtype uint8, int32, int64, float64 were all converted to float64 by StandardScaler.\n",
      "  Xt = transform.transform(Xt)\n",
      "C:\\Users\\jpkel\\Anaconda3\\lib\\site-packages\\sklearn\\pipeline.py:381: DataConversionWarning: Data with input dtype uint8, int32, int64, float64 were all converted to float64 by StandardScaler.\n",
      "  Xt = transform.transform(Xt)\n"
     ]
    }
   ],
   "source": [
    "# Display best_score_ for each fitted model\n",
    "for key, value in fitted_models.items():\n",
    "    print(key, 'score: ', fitted_models[key].best_score_)\n",
    "    \n",
    "# Display AUC score for each fitted model\n",
    "for key, value in fitted_models.items():\n",
    "    pred = value.predict_proba(X_test)\n",
    "    pred = [p[1] for p in pred]\n",
    "    fpr, tpr, thresholds = roc_curve(y_test, pred)\n",
    "    print(key, 'auc: ', auc(fpr,tpr))"
   ]
  },
  {
   "cell_type": "code",
   "execution_count": 36,
   "metadata": {},
   "outputs": [
    {
     "name": "stderr",
     "output_type": "stream",
     "text": [
      "C:\\Users\\jpkel\\Anaconda3\\lib\\site-packages\\sklearn\\pipeline.py:381: DataConversionWarning: Data with input dtype uint8, int32, int64, float64 were all converted to float64 by StandardScaler.\n",
      "  Xt = transform.transform(Xt)\n",
      "C:\\Users\\jpkel\\Anaconda3\\lib\\site-packages\\sklearn\\pipeline.py:381: DataConversionWarning: Data with input dtype uint8, int32, int64, float64 were all converted to float64 by StandardScaler.\n",
      "  Xt = transform.transform(Xt)\n",
      "C:\\Users\\jpkel\\Anaconda3\\lib\\site-packages\\sklearn\\pipeline.py:381: DataConversionWarning: Data with input dtype uint8, int32, int64, float64 were all converted to float64 by StandardScaler.\n",
      "  Xt = transform.transform(Xt)\n",
      "C:\\Users\\jpkel\\Anaconda3\\lib\\site-packages\\sklearn\\pipeline.py:381: DataConversionWarning: Data with input dtype uint8, int32, int64, float64 were all converted to float64 by StandardScaler.\n",
      "  Xt = transform.transform(Xt)\n"
     ]
    },
    {
     "data": {
      "image/png": "[encoded data removed]",
      "text/plain": [
       "<Figure size 576x576 with 1 Axes>"
      ]
     },
     "metadata": {
      "needs_background": "light"
     },
     "output_type": "display_data"
    }
   ],
   "source": [
    "# Display ROC Curves for each fitted model\n",
    "    # Initialize figure\n",
    "fig = plt.figure(figsize=(8,8))\n",
    "plt.title('Receiver Operating Characteristic')\n",
    "\n",
    "for key, value in fitted_models.items():\n",
    "    pred = value.predict_proba(X_test)\n",
    "    pred = [p[1] for p in pred]\n",
    "    fpr, tpr, thresholds = roc_curve(y_test, pred)\n",
    "    \n",
    "    # Plot ROC curve\n",
    "    plt.plot(fpr, tpr, label=key)\n",
    "    plt.legend(loc='lower right')\n",
    "\n",
    "# Diagonal 45 degree line\n",
    "plt.plot([0,1],[0,1],'k--')\n",
    "\n",
    "# Axes limits and labels\n",
    "plt.xlim([-0.1,1.1])\n",
    "plt.ylim([-0.1,1.1])\n",
    "plt.ylabel('True Positive Rate')\n",
    "plt.xlabel('False Positive Rate')\n",
    "plt.show()"
   ]
  },
  {
   "cell_type": "markdown",
   "metadata": {},
   "source": [
    "Now I will prep test set for model predictions."
   ]
  },
  {
   "cell_type": "code",
   "execution_count": 37,
   "metadata": {},
   "outputs": [
    {
     "name": "stderr",
     "output_type": "stream",
     "text": [
      "C:\\Users\\jpkel\\Anaconda3\\lib\\site-packages\\sklearn\\pipeline.py:331: DataConversionWarning: Data with input dtype uint8, int32, int64, float64 were all converted to float64 by StandardScaler.\n",
      "  Xt = transform.transform(Xt)\n"
     ]
    }
   ],
   "source": [
    "#test.drop(columns=['Title', 'FirstName', 'MiddleName', 'LastName', 'Suffix', 'AddressLine1', 'AddressLine2', 'City', 'StateProvinceName', 'PostalCode', 'PhoneNumber'], inplace=True)\n",
    "test['BirthDate'] = pd.to_datetime(test['BirthDate'])\n",
    "test['DateCollected'] = '1998-1-1'\n",
    "test['DateCollected'] = pd.to_datetime(test['DateCollected'])\n",
    "test['Age'] = test.DateCollected.sub(test.BirthDate).astype('<m8[Y]')\n",
    "test['Female_Under_25'] = Female_Under_25.astype(int)\n",
    "test['Male_Under_25'] = Male_Under_25.astype(int)\n",
    "test['Female_Over_55'] = Female_Over_55.astype(int)\n",
    "test['Male_Over_55'] = Male_Over_55.astype(int)\n",
    "test['Female_In_25_45'] = Female_In_25_45.astype(int)\n",
    "test['Male_In_25_45'] = Male_In_25_45.astype(int)\n",
    "\n",
    "test_attributes = test[['Education', 'Occupation', 'Gender', 'MaritalStatus', 'HomeOwnerFlag',\n",
    "       'NumberCarsOwned', 'NumberChildrenAtHome', 'TotalChildren',\n",
    "       'YearlyIncome', 'Age', 'Female_Under_25',\n",
    "       'Male_Under_25', 'Female_Over_55', 'Male_Over_55', 'Female_In_25_45',\n",
    "       'Male_In_25_45']]\n",
    "\n",
    "test_dummies = pd.get_dummies(test_attributes[['Gender', 'MaritalStatus']], drop_first=True)\n",
    "test_attributes = pd.concat([test_attributes, test_dummies], axis=1)\n",
    "test_attributes = test_attributes.drop(columns=['Gender', 'MaritalStatus'])\n",
    "\n",
    "education_map = {'Partial High School':0,  'High School':1,  'Partial College':2, 'Bachelors ':3, 'Graduate Degree':4} \n",
    "test_attributes['Education'] = test_attributes['Education'].map(education_map) \n",
    "\n",
    "occupation_map = {'Manual':0, 'Skilled Manual':1, 'Clerical':2, 'Management':3, 'Professional':4} \n",
    "test_attributes['Occupation'] = test_attributes['Occupation'].map(occupation_map)\n",
    "\n",
    "test_features = test_attributes.drop(columns=['Female_In_25_45', 'HomeOwnerFlag'])\n",
    "\n",
    "submission = pd.DataFrame(fitted_models['gb'].predict(test_features), index =test_features.index, columns=['BikeBuyer'])\n",
    "submission.to_csv('bike_predictions.csv')"
   ]
  },
  {
   "cell_type": "markdown",
   "metadata": {},
   "source": [
    "This test submission has an accuracy of .776."
   ]
  },
  {
   "cell_type": "markdown",
   "metadata": {},
   "source": [
    "# Regression"
   ]
  },
  {
   "cell_type": "code",
   "execution_count": 38,
   "metadata": {},
   "outputs": [
    {
     "data": {
      "text/html": [
       "<div>\n",
       "<style scoped>\n",
       "    .dataframe tbody tr th:only-of-type {\n",
       "        vertical-align: middle;\n",
       "    }\n",
       "\n",
       "    .dataframe tbody tr th {\n",
       "        vertical-align: top;\n",
       "    }\n",
       "\n",
       "    .dataframe thead th {\n",
       "        text-align: right;\n",
       "    }\n",
       "</style>\n",
       "<table border=\"1\" class=\"dataframe\">\n",
       "  <thead>\n",
       "    <tr style=\"text-align: right;\">\n",
       "      <th></th>\n",
       "      <th>column</th>\n",
       "      <th>p_value</th>\n",
       "    </tr>\n",
       "  </thead>\n",
       "  <tbody>\n",
       "    <tr>\n",
       "      <th>1</th>\n",
       "      <td>Occupation</td>\n",
       "      <td>0.000000e+00</td>\n",
       "    </tr>\n",
       "    <tr>\n",
       "      <th>3</th>\n",
       "      <td>NumberCarsOwned</td>\n",
       "      <td>0.000000e+00</td>\n",
       "    </tr>\n",
       "    <tr>\n",
       "      <th>4</th>\n",
       "      <td>NumberChildrenAtHome</td>\n",
       "      <td>0.000000e+00</td>\n",
       "    </tr>\n",
       "    <tr>\n",
       "      <th>5</th>\n",
       "      <td>TotalChildren</td>\n",
       "      <td>0.000000e+00</td>\n",
       "    </tr>\n",
       "    <tr>\n",
       "      <th>6</th>\n",
       "      <td>YearlyIncome</td>\n",
       "      <td>0.000000e+00</td>\n",
       "    </tr>\n",
       "    <tr>\n",
       "      <th>8</th>\n",
       "      <td>Female_Under_25</td>\n",
       "      <td>0.000000e+00</td>\n",
       "    </tr>\n",
       "    <tr>\n",
       "      <th>12</th>\n",
       "      <td>Female_In_25_45</td>\n",
       "      <td>0.000000e+00</td>\n",
       "    </tr>\n",
       "    <tr>\n",
       "      <th>13</th>\n",
       "      <td>Male_In_25_45</td>\n",
       "      <td>0.000000e+00</td>\n",
       "    </tr>\n",
       "    <tr>\n",
       "      <th>14</th>\n",
       "      <td>Gender_M</td>\n",
       "      <td>0.000000e+00</td>\n",
       "    </tr>\n",
       "    <tr>\n",
       "      <th>10</th>\n",
       "      <td>Female_Over_55</td>\n",
       "      <td>7.380627e-297</td>\n",
       "    </tr>\n",
       "    <tr>\n",
       "      <th>9</th>\n",
       "      <td>Male_Under_25</td>\n",
       "      <td>9.405342e-249</td>\n",
       "    </tr>\n",
       "    <tr>\n",
       "      <th>15</th>\n",
       "      <td>MaritalStatus_S</td>\n",
       "      <td>9.285234e-207</td>\n",
       "    </tr>\n",
       "    <tr>\n",
       "      <th>0</th>\n",
       "      <td>Education</td>\n",
       "      <td>1.095211e-153</td>\n",
       "    </tr>\n",
       "    <tr>\n",
       "      <th>2</th>\n",
       "      <td>HomeOwnerFlag</td>\n",
       "      <td>9.115445e-76</td>\n",
       "    </tr>\n",
       "    <tr>\n",
       "      <th>11</th>\n",
       "      <td>Male_Over_55</td>\n",
       "      <td>3.049593e-54</td>\n",
       "    </tr>\n",
       "    <tr>\n",
       "      <th>7</th>\n",
       "      <td>Age</td>\n",
       "      <td>3.787970e-41</td>\n",
       "    </tr>\n",
       "  </tbody>\n",
       "</table>\n",
       "</div>"
      ],
      "text/plain": [
       "                  column        p_value\n",
       "1             Occupation   0.000000e+00\n",
       "3        NumberCarsOwned   0.000000e+00\n",
       "4   NumberChildrenAtHome   0.000000e+00\n",
       "5          TotalChildren   0.000000e+00\n",
       "6           YearlyIncome   0.000000e+00\n",
       "8        Female_Under_25   0.000000e+00\n",
       "12       Female_In_25_45   0.000000e+00\n",
       "13         Male_In_25_45   0.000000e+00\n",
       "14              Gender_M   0.000000e+00\n",
       "10        Female_Over_55  7.380627e-297\n",
       "9          Male_Under_25  9.405342e-249\n",
       "15       MaritalStatus_S  9.285234e-207\n",
       "0              Education  1.095211e-153\n",
       "2          HomeOwnerFlag   9.115445e-76\n",
       "11          Male_Over_55   3.049593e-54\n",
       "7                    Age   3.787970e-41"
      ]
     },
     "metadata": {},
     "output_type": "display_data"
    }
   ],
   "source": [
    "#Redo of feature selection\n",
    "from sklearn.feature_selection import SelectKBest\n",
    "from sklearn.feature_selection import f_classif\n",
    "\n",
    "k_best = SelectKBest(f_classif, k='all')\n",
    "k_best.fit_transform(features, regression_labels['AveMonthSpend'])\n",
    "p_values = pd.DataFrame({'column':features.columns, 'p_value':k_best.pvalues_}).sort_values('p_value')\n",
    "display(p_values)"
   ]
  },
  {
   "cell_type": "markdown",
   "metadata": {},
   "source": [
    "It appears all attributes are likely worth keeping so we can use the DataFrame 'features'."
   ]
  },
  {
   "cell_type": "code",
   "execution_count": 39,
   "metadata": {},
   "outputs": [
    {
     "name": "stderr",
     "output_type": "stream",
     "text": [
      "C:\\Users\\jpkel\\Anaconda3\\lib\\site-packages\\sklearn\\preprocessing\\data.py:617: DataConversionWarning: Data with input dtype uint8, int32, int64, float64 were all converted to float64 by StandardScaler.\n",
      "  return self.partial_fit(X, y)\n",
      "C:\\Users\\jpkel\\Anaconda3\\lib\\site-packages\\sklearn\\base.py:465: DataConversionWarning: Data with input dtype uint8, int32, int64, float64 were all converted to float64 by StandardScaler.\n",
      "  return self.fit(X, y, **fit_params).transform(X)\n"
     ]
    },
    {
     "name": "stdout",
     "output_type": "stream",
     "text": [
      "lasso has been fitted.\n"
     ]
    },
    {
     "name": "stderr",
     "output_type": "stream",
     "text": [
      "C:\\Users\\jpkel\\Anaconda3\\lib\\site-packages\\sklearn\\preprocessing\\data.py:617: DataConversionWarning: Data with input dtype uint8, int32, int64, float64 were all converted to float64 by StandardScaler.\n",
      "  return self.partial_fit(X, y)\n",
      "C:\\Users\\jpkel\\Anaconda3\\lib\\site-packages\\sklearn\\base.py:465: DataConversionWarning: Data with input dtype uint8, int32, int64, float64 were all converted to float64 by StandardScaler.\n",
      "  return self.fit(X, y, **fit_params).transform(X)\n"
     ]
    },
    {
     "name": "stdout",
     "output_type": "stream",
     "text": [
      "ridge has been fitted.\n"
     ]
    },
    {
     "name": "stderr",
     "output_type": "stream",
     "text": [
      "C:\\Users\\jpkel\\Anaconda3\\lib\\site-packages\\sklearn\\preprocessing\\data.py:617: DataConversionWarning: Data with input dtype uint8, int32, int64, float64 were all converted to float64 by StandardScaler.\n",
      "  return self.partial_fit(X, y)\n",
      "C:\\Users\\jpkel\\Anaconda3\\lib\\site-packages\\sklearn\\base.py:465: DataConversionWarning: Data with input dtype uint8, int32, int64, float64 were all converted to float64 by StandardScaler.\n",
      "  return self.fit(X, y, **fit_params).transform(X)\n"
     ]
    },
    {
     "name": "stdout",
     "output_type": "stream",
     "text": [
      "enet has been fitted.\n"
     ]
    },
    {
     "name": "stderr",
     "output_type": "stream",
     "text": [
      "C:\\Users\\jpkel\\Anaconda3\\lib\\site-packages\\sklearn\\preprocessing\\data.py:617: DataConversionWarning: Data with input dtype uint8, int32, int64, float64 were all converted to float64 by StandardScaler.\n",
      "  return self.partial_fit(X, y)\n",
      "C:\\Users\\jpkel\\Anaconda3\\lib\\site-packages\\sklearn\\base.py:465: DataConversionWarning: Data with input dtype uint8, int32, int64, float64 were all converted to float64 by StandardScaler.\n",
      "  return self.fit(X, y, **fit_params).transform(X)\n"
     ]
    },
    {
     "name": "stdout",
     "output_type": "stream",
     "text": [
      "rf has been fitted.\n"
     ]
    },
    {
     "name": "stderr",
     "output_type": "stream",
     "text": [
      "C:\\Users\\jpkel\\Anaconda3\\lib\\site-packages\\sklearn\\preprocessing\\data.py:617: DataConversionWarning: Data with input dtype uint8, int32, int64, float64 were all converted to float64 by StandardScaler.\n",
      "  return self.partial_fit(X, y)\n",
      "C:\\Users\\jpkel\\Anaconda3\\lib\\site-packages\\sklearn\\base.py:465: DataConversionWarning: Data with input dtype uint8, int32, int64, float64 were all converted to float64 by StandardScaler.\n",
      "  return self.fit(X, y, **fit_params).transform(X)\n"
     ]
    },
    {
     "name": "stdout",
     "output_type": "stream",
     "text": [
      "gb has been fitted.\n"
     ]
    }
   ],
   "source": [
    "# Import Elastic Net, Ridge Regression, and Lasso Regression\n",
    "from sklearn.linear_model import ElasticNet, Ridge, Lasso\n",
    "\n",
    "# Import Random Forest and Gradient Boosted Trees\n",
    "from sklearn.ensemble import RandomForestRegressor, GradientBoostingRegressor\n",
    "\n",
    "X = features\n",
    "y = df.AveMonthSpend\n",
    "\n",
    "X_train, X_test, y_train, y_test = train_test_split(X,y, test_size=0.2, random_state=1234)\n",
    "\n",
    "# Create pipelines dictionary\n",
    "pipelines= {'lasso':make_pipeline(StandardScaler(), Lasso(random_state=123)), 'ridge':make_pipeline(StandardScaler(), Ridge(random_state=123)), 'enet':make_pipeline(StandardScaler(), ElasticNet(random_state=123))}\n",
    "\n",
    "# Add a pipeline for 'rf'\n",
    "pipelines['rf'] = make_pipeline(StandardScaler(),RandomForestRegressor(random_state=123))\n",
    "# Add a pipeline for 'gb'\n",
    "pipelines['gb'] = make_pipeline(StandardScaler(),GradientBoostingRegressor(random_state=123))\n",
    "\n",
    "# Lasso hyperparameters\n",
    "lasso_hyperparameters ={'lasso__alpha':[.001, .005, .01, .05, .1, .5, 1., 5., 10.]}\n",
    "# Ridge hyperparameters\n",
    "ridge_hyperparameters ={'ridge__alpha':[.001, .005, .01, .05, .1, .5, 1., 5., 10.]}\n",
    "# Elastic Net hyperparameters\n",
    "enet_hyperparameters ={'elasticnet__alpha':[.001, .005, .01, .05, .1, .5, 1, 5, 10],'elasticnet__l1_ratio':[.1,.3,.5,.7,.9]}\n",
    "# Random forest hyperparameters\n",
    "rf_hyperparameters={'randomforestregressor__n_estimators':[100,200], 'randomforestregressor__max_features':['auto','sqrt',0.33]}\n",
    "# Boosted tree hyperparameters\n",
    "gb_hyperparameters={'gradientboostingregressor__n_estimators':[100,200],'gradientboostingregressor__learning_rate':[.05,.1,.2],'gradientboostingregressor__max_depth':[1,3,5]}\n",
    "\n",
    "# Create hyperparameters dictionary\n",
    "hyperparameters={'lasso':lasso_hyperparameters,'ridge':ridge_hyperparameters,'enet':enet_hyperparameters,'gb':gb_hyperparameters,'rf':rf_hyperparameters}\n",
    "\n",
    "# Create empty dictionary called fitted_models\n",
    "fitted_models = {}\n",
    "\n",
    "# Loop through model pipelines, tuning each one and saving it to fitted_models\n",
    "for name, pipeline in pipelines.items():\n",
    "    # Create cross-validation object from pipeline and hyperparameters\n",
    "    model = GridSearchCV(pipelines[name], hyperparameters[name], cv=10, n_jobs=-1)\n",
    "    \n",
    "    # Fit model on X_train, y_train\n",
    "    model.fit(X_train, y_train)\n",
    "    \n",
    "    # Store model in fitted_models[name] \n",
    "    fitted_models[name] = model\n",
    "    \n",
    "    # Print '{name} has been fitted'\n",
    "    print(name, 'has been fitted.')"
   ]
  },
  {
   "cell_type": "code",
   "execution_count": 42,
   "metadata": {},
   "outputs": [
    {
     "name": "stdout",
     "output_type": "stream",
     "text": [
      "lasso 0.9509718263475055\n",
      "ridge 0.9509716517867776\n",
      "enet 0.9509718208859357\n",
      "rf 0.9836750855179032\n",
      "gb 0.986626745372614\n",
      "lasso\n",
      "--------\n",
      "R^2: 0.9521276507483607\n",
      "RMSE: 6.107580097768966\n",
      "\n",
      "ridge\n",
      "--------\n",
      "R^2: 0.9521294125953674\n",
      "RMSE: 6.107467708039932\n",
      "\n",
      "enet\n",
      "--------\n",
      "R^2: 0.952126964968515\n",
      "RMSE: 6.107623843693312\n",
      "\n",
      "rf\n",
      "--------\n",
      "R^2: 0.9849997963827075\n",
      "RMSE: 3.418813248666761\n",
      "\n"
     ]
    },
    {
     "name": "stderr",
     "output_type": "stream",
     "text": [
      "C:\\Users\\jpkel\\Anaconda3\\lib\\site-packages\\sklearn\\pipeline.py:331: DataConversionWarning: Data with input dtype uint8, int32, int64, float64 were all converted to float64 by StandardScaler.\n",
      "  Xt = transform.transform(Xt)\n",
      "C:\\Users\\jpkel\\Anaconda3\\lib\\site-packages\\sklearn\\pipeline.py:331: DataConversionWarning: Data with input dtype uint8, int32, int64, float64 were all converted to float64 by StandardScaler.\n",
      "  Xt = transform.transform(Xt)\n",
      "C:\\Users\\jpkel\\Anaconda3\\lib\\site-packages\\sklearn\\pipeline.py:331: DataConversionWarning: Data with input dtype uint8, int32, int64, float64 were all converted to float64 by StandardScaler.\n",
      "  Xt = transform.transform(Xt)\n",
      "C:\\Users\\jpkel\\Anaconda3\\lib\\site-packages\\sklearn\\pipeline.py:331: DataConversionWarning: Data with input dtype uint8, int32, int64, float64 were all converted to float64 by StandardScaler.\n",
      "  Xt = transform.transform(Xt)\n",
      "C:\\Users\\jpkel\\Anaconda3\\lib\\site-packages\\sklearn\\pipeline.py:331: DataConversionWarning: Data with input dtype uint8, int32, int64, float64 were all converted to float64 by StandardScaler.\n",
      "  Xt = transform.transform(Xt)\n"
     ]
    },
    {
     "name": "stdout",
     "output_type": "stream",
     "text": [
      "gb\n",
      "--------\n",
      "R^2: 0.9880005354243712\n",
      "RMSE: 3.0577905565989294\n",
      "\n"
     ]
    }
   ],
   "source": [
    "for name, model in fitted_models.items():\n",
    "    print(name, model.best_score_)\n",
    "    \n",
    "from sklearn.metrics import r2_score, mean_squared_error\n",
    "\n",
    "for name, model in fitted_models.items():\n",
    "    pred = model.predict(X_test)\n",
    "    print(name)\n",
    "    print('--------')\n",
    "    print( 'R^2:', r2_score(y_test, pred))\n",
    "    print( 'RMSE:', np.sqrt(mean_squared_error(y_test, pred)))\n",
    "    print()"
   ]
  },
  {
   "cell_type": "code",
   "execution_count": 43,
   "metadata": {},
   "outputs": [
    {
     "name": "stderr",
     "output_type": "stream",
     "text": [
      "C:\\Users\\jpkel\\Anaconda3\\lib\\site-packages\\sklearn\\pipeline.py:331: DataConversionWarning: Data with input dtype uint8, int32, int64, float64 were all converted to float64 by StandardScaler.\n",
      "  Xt = transform.transform(Xt)\n"
     ]
    },
    {
     "data": {
      "image/png": "[encoded data removed]",
      "text/plain": [
       "<Figure size 432x288 with 1 Axes>"
      ]
     },
     "metadata": {
      "needs_background": "light"
     },
     "output_type": "display_data"
    }
   ],
   "source": [
    "gb_pred = fitted_models['gb'].predict(X_test)\n",
    "plt.scatter(gb_pred, y_test)\n",
    "plt.xlabel('predicted')\n",
    "plt.ylabel('actual')\n",
    "plt.show()"
   ]
  },
  {
   "cell_type": "code",
   "execution_count": 44,
   "metadata": {},
   "outputs": [
    {
     "name": "stderr",
     "output_type": "stream",
     "text": [
      "C:\\Users\\jpkel\\Anaconda3\\lib\\site-packages\\sklearn\\pipeline.py:331: DataConversionWarning: Data with input dtype uint8, int32, int64, float64 were all converted to float64 by StandardScaler.\n",
      "  Xt = transform.transform(Xt)\n"
     ]
    }
   ],
   "source": [
    "submission = pd.DataFrame(fitted_models['gb'].predict(test_attributes), index=test_attributes.index, columns=['AveMonthSpend'])\n",
    "submission.to_csv('avemonthspend_predictions.csv')"
   ]
  },
  {
   "cell_type": "markdown",
   "metadata": {},
   "source": [
    "The root mean squared error for the submitted results was 3.4132."
   ]
  }
 ],
 "metadata": {
  "kernelspec": {
   "display_name": "Python 3",
   "language": "python",
   "name": "python3"
  },
  "language_info": {
   "codemirror_mode": {
    "name": "ipython",
    "version": 3
   },
   "file_extension": ".py",
   "mimetype": "text/x-python",
   "name": "python",
   "nbconvert_exporter": "python",
   "pygments_lexer": "ipython3",
   "version": "3.6.6"
  }
 },
 "nbformat": 4,
 "nbformat_minor": 2
}
